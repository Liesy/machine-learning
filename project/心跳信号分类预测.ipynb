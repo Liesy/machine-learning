{
 "metadata": {
  "language_info": {
   "codemirror_mode": {
    "name": "ipython",
    "version": 3
   },
   "file_extension": ".py",
   "mimetype": "text/x-python",
   "name": "python",
   "nbconvert_exporter": "python",
   "pygments_lexer": "ipython3",
   "version": "3.8.5"
  },
  "orig_nbformat": 2,
  "kernelspec": {
   "name": "python385jvsc74a57bd0344bc3422dd52e55fbee9cad45844ab5e3280f9530e561e915eb60c31950a717",
   "display_name": "Python 3.8.5 64-bit ('base': conda)"
  }
 },
 "nbformat": 4,
 "nbformat_minor": 2,
 "cells": [
  {
   "source": [
    "### 2021年春 模式识别与机器学习 项目 心跳信号分类预测\n",
    "### 山东大学 计算机科学与技术学院 智能19 李阳"
   ],
   "cell_type": "markdown",
   "metadata": {}
  },
  {
   "cell_type": "code",
   "execution_count": 11,
   "metadata": {},
   "outputs": [],
   "source": [
    "# 包含所需要的库\n",
    "# 关于如何直接导出ipynb为pdf且支持中文的参考https://www.cnblogs.com/myfy/p/12829122.html\n",
    "import pandas as pd\n",
    "import numpy as np\n",
    "import matplotlib.pyplot as plt\n",
    "import seaborn as sns\n",
    "import scipy.stats as st\n",
    "from math import sqrt\n",
    "from math import exp\n",
    "from math import pi\n",
    "from sklearn.metrics import accuracy_score, precision_score, recall_score\n",
    "from sklearn.metrics import f1_score\n",
    "from sklearn.model_selection import StratifiedKFold, KFold\n",
    "from sklearn.model_selection import train_test_split\n",
    "from sklearn.model_selection import cross_val_score, RepeatedStratifiedKFold\n",
    "from sklearn.ensemble import AdaBoostClassifier\n",
    "from sklearn.ensemble import RandomForestClassifier\n",
    "from sklearn.tree import DecisionTreeClassifier\n",
    "from sklearn.svm import SVC"
   ]
  },
  {
   "source": [
    "#### 查看数据信息"
   ],
   "cell_type": "markdown",
   "metadata": {}
  },
  {
   "cell_type": "code",
   "execution_count": 2,
   "metadata": {},
   "outputs": [
    {
     "output_type": "stream",
     "name": "stdout",
     "text": [
      "(100000, 3)\n"
     ]
    },
    {
     "output_type": "execute_result",
     "data": {
      "text/plain": [
       "          id                                  heartbeat_signals  label\n",
       "0          0  0.9912297987616655,0.9435330436439665,0.764677...    0.0\n",
       "1          1  0.9714822034884503,0.9289687459588268,0.572932...    0.0\n",
       "2          2  1.0,0.9591487564065292,0.7013782792997189,0.23...    2.0\n",
       "3          3  0.9757952826275774,0.9340884687738161,0.659636...    0.0\n",
       "4          4  0.0,0.055816398940721094,0.26129357194994196,0...    2.0\n",
       "99995  99995  1.0,0.677705342021188,0.22239242747868546,0.25...    0.0\n",
       "99996  99996  0.9268571578157265,0.9063471198026871,0.636993...    2.0\n",
       "99997  99997  0.9258351628306013,0.5873839035878395,0.633226...    3.0\n",
       "99998  99998  1.0,0.9947621698382489,0.8297017704865509,0.45...    2.0\n",
       "99999  99999  0.9259994004527861,0.916476635326053,0.4042900...    0.0"
      ],
      "text/html": "<div>\n<style scoped>\n    .dataframe tbody tr th:only-of-type {\n        vertical-align: middle;\n    }\n\n    .dataframe tbody tr th {\n        vertical-align: top;\n    }\n\n    .dataframe thead th {\n        text-align: right;\n    }\n</style>\n<table border=\"1\" class=\"dataframe\">\n  <thead>\n    <tr style=\"text-align: right;\">\n      <th></th>\n      <th>id</th>\n      <th>heartbeat_signals</th>\n      <th>label</th>\n    </tr>\n  </thead>\n  <tbody>\n    <tr>\n      <th>0</th>\n      <td>0</td>\n      <td>0.9912297987616655,0.9435330436439665,0.764677...</td>\n      <td>0.0</td>\n    </tr>\n    <tr>\n      <th>1</th>\n      <td>1</td>\n      <td>0.9714822034884503,0.9289687459588268,0.572932...</td>\n      <td>0.0</td>\n    </tr>\n    <tr>\n      <th>2</th>\n      <td>2</td>\n      <td>1.0,0.9591487564065292,0.7013782792997189,0.23...</td>\n      <td>2.0</td>\n    </tr>\n    <tr>\n      <th>3</th>\n      <td>3</td>\n      <td>0.9757952826275774,0.9340884687738161,0.659636...</td>\n      <td>0.0</td>\n    </tr>\n    <tr>\n      <th>4</th>\n      <td>4</td>\n      <td>0.0,0.055816398940721094,0.26129357194994196,0...</td>\n      <td>2.0</td>\n    </tr>\n    <tr>\n      <th>99995</th>\n      <td>99995</td>\n      <td>1.0,0.677705342021188,0.22239242747868546,0.25...</td>\n      <td>0.0</td>\n    </tr>\n    <tr>\n      <th>99996</th>\n      <td>99996</td>\n      <td>0.9268571578157265,0.9063471198026871,0.636993...</td>\n      <td>2.0</td>\n    </tr>\n    <tr>\n      <th>99997</th>\n      <td>99997</td>\n      <td>0.9258351628306013,0.5873839035878395,0.633226...</td>\n      <td>3.0</td>\n    </tr>\n    <tr>\n      <th>99998</th>\n      <td>99998</td>\n      <td>1.0,0.9947621698382489,0.8297017704865509,0.45...</td>\n      <td>2.0</td>\n    </tr>\n    <tr>\n      <th>99999</th>\n      <td>99999</td>\n      <td>0.9259994004527861,0.916476635326053,0.4042900...</td>\n      <td>0.0</td>\n    </tr>\n  </tbody>\n</table>\n</div>"
     },
     "metadata": {},
     "execution_count": 2
    }
   ],
   "source": [
    "train_data=pd.read_csv('./train.csv') # 训练集\n",
    "testA_data=pd.read_csv('./testA.csv') # 测试集\n",
    "print(train_data.shape)\n",
    "train_data.head().append(train_data.tail()) # 查看数据的行列信息"
   ]
  },
  {
   "source": [
    "train_data.info # 数据类型"
   ],
   "cell_type": "code",
   "metadata": {},
   "execution_count": 3,
   "outputs": [
    {
     "output_type": "execute_result",
     "data": {
      "text/plain": [
       "<bound method DataFrame.info of           id                                  heartbeat_signals  label\n",
       "0          0  0.9912297987616655,0.9435330436439665,0.764677...    0.0\n",
       "1          1  0.9714822034884503,0.9289687459588268,0.572932...    0.0\n",
       "2          2  1.0,0.9591487564065292,0.7013782792997189,0.23...    2.0\n",
       "3          3  0.9757952826275774,0.9340884687738161,0.659636...    0.0\n",
       "4          4  0.0,0.055816398940721094,0.26129357194994196,0...    2.0\n",
       "...      ...                                                ...    ...\n",
       "99995  99995  1.0,0.677705342021188,0.22239242747868546,0.25...    0.0\n",
       "99996  99996  0.9268571578157265,0.9063471198026871,0.636993...    2.0\n",
       "99997  99997  0.9258351628306013,0.5873839035878395,0.633226...    3.0\n",
       "99998  99998  1.0,0.9947621698382489,0.8297017704865509,0.45...    2.0\n",
       "99999  99999  0.9259994004527861,0.916476635326053,0.4042900...    0.0\n",
       "\n",
       "[100000 rows x 3 columns]>"
      ]
     },
     "metadata": {},
     "execution_count": 3
    }
   ]
  },
  {
   "cell_type": "code",
   "execution_count": 4,
   "metadata": {},
   "outputs": [
    {
     "output_type": "execute_result",
     "data": {
      "text/plain": [
       "id                   0\n",
       "heartbeat_signals    0\n",
       "label                0\n",
       "dtype: int64"
      ]
     },
     "metadata": {},
     "execution_count": 4
    }
   ],
   "source": [
    "train_data.isnull().sum() # 检查是否有缺省值"
   ]
  },
  {
   "cell_type": "code",
   "execution_count": 5,
   "metadata": {},
   "outputs": [
    {
     "output_type": "execute_result",
     "data": {
      "text/plain": [
       "0.0    64327\n",
       "3.0    17912\n",
       "2.0    14199\n",
       "1.0     3562\n",
       "Name: label, dtype: int64"
      ]
     },
     "metadata": {},
     "execution_count": 5
    }
   ],
   "source": [
    "train_data['label'].value_counts() # 查看预测值的分布情况"
   ]
  },
  {
   "source": [
    "#### 数据处理"
   ],
   "cell_type": "markdown",
   "metadata": {}
  },
  {
   "cell_type": "code",
   "execution_count": 6,
   "metadata": {},
   "outputs": [],
   "source": [
    "# 修改数据类型节省内存，将category类代替object类\n",
    "def dataProcess(df):\n",
    "    for col in df.columns:\n",
    "        col_type = df[col].dtype\n",
    "        if col_type != object:\n",
    "            c_min = df[col].min()\n",
    "            c_max = df[col].max()\n",
    "            if str(col_type)[:3] == 'int':\n",
    "                if c_min > np.iinfo(np.int8).min and c_max < np.iinfo(np.int8).max:\n",
    "                    df[col] = df[col].astype(np.int8)\n",
    "                elif c_min > np.iinfo(np.int16).min and c_max < np.iinfo(np.int16).max:\n",
    "                    df[col] = df[col].astype(np.int16)\n",
    "                elif c_min > np.iinfo(np.int32).min and c_max < np.iinfo(np.int32).max:\n",
    "                    df[col] = df[col].astype(np.int32)\n",
    "                elif c_min > np.iinfo(np.int64).min and c_max < np.iinfo(np.int64).max:\n",
    "                    df[col] = df[col].astype(np.int64)  \n",
    "            else:\n",
    "                if c_min > np.finfo(np.float16).min and c_max < np.finfo(np.float16).max:\n",
    "                    df[col] = df[col].astype(np.float16)\n",
    "                elif c_min > np.finfo(np.float32).min and c_max < np.finfo(np.float32).max:\n",
    "                    df[col] = df[col].astype(np.float32)\n",
    "                else:\n",
    "                    df[col] = df[col].astype(np.float64)\n",
    "        else:\n",
    "            df[col] = df[col].astype('category')\n",
    "    return df"
   ]
  },
  {
   "cell_type": "code",
   "execution_count": 7,
   "metadata": {},
   "outputs": [
    {
     "output_type": "execute_result",
     "data": {
      "text/plain": [
       "            id        t0        t1        t2        t3        t4        t5  \\\n",
       "0          0.0  0.991211  0.943359  0.764648  0.618652  0.379639  0.190796   \n",
       "1          1.0  0.971680  0.929199  0.572754  0.178467  0.122986  0.132324   \n",
       "2          2.0  1.000000  0.958984  0.701172  0.231812  0.000000  0.080688   \n",
       "3          3.0  0.975586  0.934082  0.659668  0.249878  0.237061  0.281494   \n",
       "4          4.0  0.000000  0.055817  0.261230  0.359863  0.433105  0.453613   \n",
       "99995  99995.0  1.000000  0.677734  0.222412  0.257080  0.204712  0.054657   \n",
       "99996  99996.0  0.926758  0.906250  0.637207  0.415039  0.374756  0.382568   \n",
       "99997  99997.0  0.925781  0.587402  0.633301  0.632324  0.639160  0.614258   \n",
       "99998  99998.0  1.000000  0.994629  0.829590  0.458252  0.264160  0.240234   \n",
       "99999  99999.0  0.925781  0.916504  0.404297  0.000000  0.262939  0.385498   \n",
       "\n",
       "             t6        t7        t8  ...  t196  t197  t198  t199  t200  t201  \\\n",
       "0      0.040222  0.026001  0.031708  ...   0.0   0.0   0.0   0.0   0.0   0.0   \n",
       "1      0.094421  0.089600  0.030487  ...   0.0   0.0   0.0   0.0   0.0   0.0   \n",
       "2      0.128418  0.187500  0.280762  ...   0.0   0.0   0.0   0.0   0.0   0.0   \n",
       "3      0.249878  0.249878  0.241455  ...   0.0   0.0   0.0   0.0   0.0   0.0   \n",
       "4      0.499023  0.542969  0.616699  ...   0.0   0.0   0.0   0.0   0.0   0.0   \n",
       "99995  0.026154  0.118164  0.244873  ...   0.0   0.0   0.0   0.0   0.0   0.0   \n",
       "99996  0.358887  0.341309  0.336426  ...   0.0   0.0   0.0   0.0   0.0   0.0   \n",
       "99997  0.599121  0.517578  0.403809  ...   0.0   0.0   0.0   0.0   0.0   0.0   \n",
       "99998  0.213745  0.189331  0.203857  ...   0.0   0.0   0.0   0.0   0.0   0.0   \n",
       "99999  0.361084  0.332764  0.339844  ...   0.0   0.0   0.0   0.0   0.0   0.0   \n",
       "\n",
       "       t202  t203  t204  label  \n",
       "0       0.0   0.0   0.0    0.0  \n",
       "1       0.0   0.0   0.0    0.0  \n",
       "2       0.0   0.0   0.0    2.0  \n",
       "3       0.0   0.0   0.0    0.0  \n",
       "4       0.0   0.0   0.0    2.0  \n",
       "99995   0.0   0.0   0.0    0.0  \n",
       "99996   0.0   0.0   0.0    2.0  \n",
       "99997   0.0   0.0   0.0    3.0  \n",
       "99998   0.0   0.0   0.0    2.0  \n",
       "99999   0.0   0.0   0.0    0.0  \n",
       "\n",
       "[10 rows x 207 columns]"
      ],
      "text/html": "<div>\n<style scoped>\n    .dataframe tbody tr th:only-of-type {\n        vertical-align: middle;\n    }\n\n    .dataframe tbody tr th {\n        vertical-align: top;\n    }\n\n    .dataframe thead th {\n        text-align: right;\n    }\n</style>\n<table border=\"1\" class=\"dataframe\">\n  <thead>\n    <tr style=\"text-align: right;\">\n      <th></th>\n      <th>id</th>\n      <th>t0</th>\n      <th>t1</th>\n      <th>t2</th>\n      <th>t3</th>\n      <th>t4</th>\n      <th>t5</th>\n      <th>t6</th>\n      <th>t7</th>\n      <th>t8</th>\n      <th>...</th>\n      <th>t196</th>\n      <th>t197</th>\n      <th>t198</th>\n      <th>t199</th>\n      <th>t200</th>\n      <th>t201</th>\n      <th>t202</th>\n      <th>t203</th>\n      <th>t204</th>\n      <th>label</th>\n    </tr>\n  </thead>\n  <tbody>\n    <tr>\n      <th>0</th>\n      <td>0.0</td>\n      <td>0.991211</td>\n      <td>0.943359</td>\n      <td>0.764648</td>\n      <td>0.618652</td>\n      <td>0.379639</td>\n      <td>0.190796</td>\n      <td>0.040222</td>\n      <td>0.026001</td>\n      <td>0.031708</td>\n      <td>...</td>\n      <td>0.0</td>\n      <td>0.0</td>\n      <td>0.0</td>\n      <td>0.0</td>\n      <td>0.0</td>\n      <td>0.0</td>\n      <td>0.0</td>\n      <td>0.0</td>\n      <td>0.0</td>\n      <td>0.0</td>\n    </tr>\n    <tr>\n      <th>1</th>\n      <td>1.0</td>\n      <td>0.971680</td>\n      <td>0.929199</td>\n      <td>0.572754</td>\n      <td>0.178467</td>\n      <td>0.122986</td>\n      <td>0.132324</td>\n      <td>0.094421</td>\n      <td>0.089600</td>\n      <td>0.030487</td>\n      <td>...</td>\n      <td>0.0</td>\n      <td>0.0</td>\n      <td>0.0</td>\n      <td>0.0</td>\n      <td>0.0</td>\n      <td>0.0</td>\n      <td>0.0</td>\n      <td>0.0</td>\n      <td>0.0</td>\n      <td>0.0</td>\n    </tr>\n    <tr>\n      <th>2</th>\n      <td>2.0</td>\n      <td>1.000000</td>\n      <td>0.958984</td>\n      <td>0.701172</td>\n      <td>0.231812</td>\n      <td>0.000000</td>\n      <td>0.080688</td>\n      <td>0.128418</td>\n      <td>0.187500</td>\n      <td>0.280762</td>\n      <td>...</td>\n      <td>0.0</td>\n      <td>0.0</td>\n      <td>0.0</td>\n      <td>0.0</td>\n      <td>0.0</td>\n      <td>0.0</td>\n      <td>0.0</td>\n      <td>0.0</td>\n      <td>0.0</td>\n      <td>2.0</td>\n    </tr>\n    <tr>\n      <th>3</th>\n      <td>3.0</td>\n      <td>0.975586</td>\n      <td>0.934082</td>\n      <td>0.659668</td>\n      <td>0.249878</td>\n      <td>0.237061</td>\n      <td>0.281494</td>\n      <td>0.249878</td>\n      <td>0.249878</td>\n      <td>0.241455</td>\n      <td>...</td>\n      <td>0.0</td>\n      <td>0.0</td>\n      <td>0.0</td>\n      <td>0.0</td>\n      <td>0.0</td>\n      <td>0.0</td>\n      <td>0.0</td>\n      <td>0.0</td>\n      <td>0.0</td>\n      <td>0.0</td>\n    </tr>\n    <tr>\n      <th>4</th>\n      <td>4.0</td>\n      <td>0.000000</td>\n      <td>0.055817</td>\n      <td>0.261230</td>\n      <td>0.359863</td>\n      <td>0.433105</td>\n      <td>0.453613</td>\n      <td>0.499023</td>\n      <td>0.542969</td>\n      <td>0.616699</td>\n      <td>...</td>\n      <td>0.0</td>\n      <td>0.0</td>\n      <td>0.0</td>\n      <td>0.0</td>\n      <td>0.0</td>\n      <td>0.0</td>\n      <td>0.0</td>\n      <td>0.0</td>\n      <td>0.0</td>\n      <td>2.0</td>\n    </tr>\n    <tr>\n      <th>99995</th>\n      <td>99995.0</td>\n      <td>1.000000</td>\n      <td>0.677734</td>\n      <td>0.222412</td>\n      <td>0.257080</td>\n      <td>0.204712</td>\n      <td>0.054657</td>\n      <td>0.026154</td>\n      <td>0.118164</td>\n      <td>0.244873</td>\n      <td>...</td>\n      <td>0.0</td>\n      <td>0.0</td>\n      <td>0.0</td>\n      <td>0.0</td>\n      <td>0.0</td>\n      <td>0.0</td>\n      <td>0.0</td>\n      <td>0.0</td>\n      <td>0.0</td>\n      <td>0.0</td>\n    </tr>\n    <tr>\n      <th>99996</th>\n      <td>99996.0</td>\n      <td>0.926758</td>\n      <td>0.906250</td>\n      <td>0.637207</td>\n      <td>0.415039</td>\n      <td>0.374756</td>\n      <td>0.382568</td>\n      <td>0.358887</td>\n      <td>0.341309</td>\n      <td>0.336426</td>\n      <td>...</td>\n      <td>0.0</td>\n      <td>0.0</td>\n      <td>0.0</td>\n      <td>0.0</td>\n      <td>0.0</td>\n      <td>0.0</td>\n      <td>0.0</td>\n      <td>0.0</td>\n      <td>0.0</td>\n      <td>2.0</td>\n    </tr>\n    <tr>\n      <th>99997</th>\n      <td>99997.0</td>\n      <td>0.925781</td>\n      <td>0.587402</td>\n      <td>0.633301</td>\n      <td>0.632324</td>\n      <td>0.639160</td>\n      <td>0.614258</td>\n      <td>0.599121</td>\n      <td>0.517578</td>\n      <td>0.403809</td>\n      <td>...</td>\n      <td>0.0</td>\n      <td>0.0</td>\n      <td>0.0</td>\n      <td>0.0</td>\n      <td>0.0</td>\n      <td>0.0</td>\n      <td>0.0</td>\n      <td>0.0</td>\n      <td>0.0</td>\n      <td>3.0</td>\n    </tr>\n    <tr>\n      <th>99998</th>\n      <td>99998.0</td>\n      <td>1.000000</td>\n      <td>0.994629</td>\n      <td>0.829590</td>\n      <td>0.458252</td>\n      <td>0.264160</td>\n      <td>0.240234</td>\n      <td>0.213745</td>\n      <td>0.189331</td>\n      <td>0.203857</td>\n      <td>...</td>\n      <td>0.0</td>\n      <td>0.0</td>\n      <td>0.0</td>\n      <td>0.0</td>\n      <td>0.0</td>\n      <td>0.0</td>\n      <td>0.0</td>\n      <td>0.0</td>\n      <td>0.0</td>\n      <td>2.0</td>\n    </tr>\n    <tr>\n      <th>99999</th>\n      <td>99999.0</td>\n      <td>0.925781</td>\n      <td>0.916504</td>\n      <td>0.404297</td>\n      <td>0.000000</td>\n      <td>0.262939</td>\n      <td>0.385498</td>\n      <td>0.361084</td>\n      <td>0.332764</td>\n      <td>0.339844</td>\n      <td>...</td>\n      <td>0.0</td>\n      <td>0.0</td>\n      <td>0.0</td>\n      <td>0.0</td>\n      <td>0.0</td>\n      <td>0.0</td>\n      <td>0.0</td>\n      <td>0.0</td>\n      <td>0.0</td>\n      <td>0.0</td>\n    </tr>\n  </tbody>\n</table>\n<p>10 rows × 207 columns</p>\n</div>"
     },
     "metadata": {},
     "execution_count": 7
    }
   ],
   "source": [
    "# 将题目中所给的heartbeat-signal信息重新整理，并对内存进行优化\n",
    "train_list=[]\n",
    "for items in train_data.values:\n",
    "    train_list.append([items[0]]+[float(i) for i in items[1].split(',')]+[items[2]])\n",
    "train_data=pd.DataFrame(np.array(train_list))\n",
    "train_data.columns=['id']+['t'+str(i) for i in range(len(train_list[0])-2)]+['label']\n",
    "train_data=dataProcess(train_data)\n",
    "\n",
    "testA_list=[]\n",
    "for items in testA_data.values:\n",
    "    testA_list.append([items[0]]+[float(i) for i in items[1].split(',')])\n",
    "testA_data=pd.DataFrame(np.array(testA_list))\n",
    "testA_data.columns=['id']+['t'+str(i) for i in range(len(testA_list[0])-1)]\n",
    "testA_data=dataProcess(testA_data)\n",
    "\n",
    "train_data.head().append(train_data.tail())"
   ]
  },
  {
   "cell_type": "code",
   "execution_count": 8,
   "metadata": {},
   "outputs": [
    {
     "output_type": "execute_result",
     "data": {
      "text/plain": [
       "             t0        t1        t2        t3        t4        t5        t6  \\\n",
       "0      0.991211  0.943359  0.764648  0.618652  0.379639  0.190796  0.040222   \n",
       "1      0.971680  0.929199  0.572754  0.178467  0.122986  0.132324  0.094421   \n",
       "2      1.000000  0.958984  0.701172  0.231812  0.000000  0.080688  0.128418   \n",
       "3      0.975586  0.934082  0.659668  0.249878  0.237061  0.281494  0.249878   \n",
       "4      0.000000  0.055817  0.261230  0.359863  0.433105  0.453613  0.499023   \n",
       "...         ...       ...       ...       ...       ...       ...       ...   \n",
       "99995  1.000000  0.677734  0.222412  0.257080  0.204712  0.054657  0.026154   \n",
       "99996  0.926758  0.906250  0.637207  0.415039  0.374756  0.382568  0.358887   \n",
       "99997  0.925781  0.587402  0.633301  0.632324  0.639160  0.614258  0.599121   \n",
       "99998  1.000000  0.994629  0.829590  0.458252  0.264160  0.240234  0.213745   \n",
       "99999  0.925781  0.916504  0.404297  0.000000  0.262939  0.385498  0.361084   \n",
       "\n",
       "             t7        t8        t9  ...  t195  t196  t197  t198  t199  t200  \\\n",
       "0      0.026001  0.031708  0.065552  ...   0.0   0.0   0.0   0.0   0.0   0.0   \n",
       "1      0.089600  0.030487  0.040497  ...   0.0   0.0   0.0   0.0   0.0   0.0   \n",
       "2      0.187500  0.280762  0.328369  ...   0.0   0.0   0.0   0.0   0.0   0.0   \n",
       "3      0.249878  0.241455  0.230713  ...   0.0   0.0   0.0   0.0   0.0   0.0   \n",
       "4      0.542969  0.616699  0.676758  ...   0.0   0.0   0.0   0.0   0.0   0.0   \n",
       "...         ...       ...       ...  ...   ...   ...   ...   ...   ...   ...   \n",
       "99995  0.118164  0.244873  0.328857  ...   0.0   0.0   0.0   0.0   0.0   0.0   \n",
       "99996  0.341309  0.336426  0.317139  ...   0.0   0.0   0.0   0.0   0.0   0.0   \n",
       "99997  0.517578  0.403809  0.253174  ...   0.0   0.0   0.0   0.0   0.0   0.0   \n",
       "99998  0.189331  0.203857  0.210815  ...   0.0   0.0   0.0   0.0   0.0   0.0   \n",
       "99999  0.332764  0.339844  0.350586  ...   0.0   0.0   0.0   0.0   0.0   0.0   \n",
       "\n",
       "       t201  t202  t203  t204  \n",
       "0       0.0   0.0   0.0   0.0  \n",
       "1       0.0   0.0   0.0   0.0  \n",
       "2       0.0   0.0   0.0   0.0  \n",
       "3       0.0   0.0   0.0   0.0  \n",
       "4       0.0   0.0   0.0   0.0  \n",
       "...     ...   ...   ...   ...  \n",
       "99995   0.0   0.0   0.0   0.0  \n",
       "99996   0.0   0.0   0.0   0.0  \n",
       "99997   0.0   0.0   0.0   0.0  \n",
       "99998   0.0   0.0   0.0   0.0  \n",
       "99999   0.0   0.0   0.0   0.0  \n",
       "\n",
       "[100000 rows x 205 columns]"
      ],
      "text/html": "<div>\n<style scoped>\n    .dataframe tbody tr th:only-of-type {\n        vertical-align: middle;\n    }\n\n    .dataframe tbody tr th {\n        vertical-align: top;\n    }\n\n    .dataframe thead th {\n        text-align: right;\n    }\n</style>\n<table border=\"1\" class=\"dataframe\">\n  <thead>\n    <tr style=\"text-align: right;\">\n      <th></th>\n      <th>t0</th>\n      <th>t1</th>\n      <th>t2</th>\n      <th>t3</th>\n      <th>t4</th>\n      <th>t5</th>\n      <th>t6</th>\n      <th>t7</th>\n      <th>t8</th>\n      <th>t9</th>\n      <th>...</th>\n      <th>t195</th>\n      <th>t196</th>\n      <th>t197</th>\n      <th>t198</th>\n      <th>t199</th>\n      <th>t200</th>\n      <th>t201</th>\n      <th>t202</th>\n      <th>t203</th>\n      <th>t204</th>\n    </tr>\n  </thead>\n  <tbody>\n    <tr>\n      <th>0</th>\n      <td>0.991211</td>\n      <td>0.943359</td>\n      <td>0.764648</td>\n      <td>0.618652</td>\n      <td>0.379639</td>\n      <td>0.190796</td>\n      <td>0.040222</td>\n      <td>0.026001</td>\n      <td>0.031708</td>\n      <td>0.065552</td>\n      <td>...</td>\n      <td>0.0</td>\n      <td>0.0</td>\n      <td>0.0</td>\n      <td>0.0</td>\n      <td>0.0</td>\n      <td>0.0</td>\n      <td>0.0</td>\n      <td>0.0</td>\n      <td>0.0</td>\n      <td>0.0</td>\n    </tr>\n    <tr>\n      <th>1</th>\n      <td>0.971680</td>\n      <td>0.929199</td>\n      <td>0.572754</td>\n      <td>0.178467</td>\n      <td>0.122986</td>\n      <td>0.132324</td>\n      <td>0.094421</td>\n      <td>0.089600</td>\n      <td>0.030487</td>\n      <td>0.040497</td>\n      <td>...</td>\n      <td>0.0</td>\n      <td>0.0</td>\n      <td>0.0</td>\n      <td>0.0</td>\n      <td>0.0</td>\n      <td>0.0</td>\n      <td>0.0</td>\n      <td>0.0</td>\n      <td>0.0</td>\n      <td>0.0</td>\n    </tr>\n    <tr>\n      <th>2</th>\n      <td>1.000000</td>\n      <td>0.958984</td>\n      <td>0.701172</td>\n      <td>0.231812</td>\n      <td>0.000000</td>\n      <td>0.080688</td>\n      <td>0.128418</td>\n      <td>0.187500</td>\n      <td>0.280762</td>\n      <td>0.328369</td>\n      <td>...</td>\n      <td>0.0</td>\n      <td>0.0</td>\n      <td>0.0</td>\n      <td>0.0</td>\n      <td>0.0</td>\n      <td>0.0</td>\n      <td>0.0</td>\n      <td>0.0</td>\n      <td>0.0</td>\n      <td>0.0</td>\n    </tr>\n    <tr>\n      <th>3</th>\n      <td>0.975586</td>\n      <td>0.934082</td>\n      <td>0.659668</td>\n      <td>0.249878</td>\n      <td>0.237061</td>\n      <td>0.281494</td>\n      <td>0.249878</td>\n      <td>0.249878</td>\n      <td>0.241455</td>\n      <td>0.230713</td>\n      <td>...</td>\n      <td>0.0</td>\n      <td>0.0</td>\n      <td>0.0</td>\n      <td>0.0</td>\n      <td>0.0</td>\n      <td>0.0</td>\n      <td>0.0</td>\n      <td>0.0</td>\n      <td>0.0</td>\n      <td>0.0</td>\n    </tr>\n    <tr>\n      <th>4</th>\n      <td>0.000000</td>\n      <td>0.055817</td>\n      <td>0.261230</td>\n      <td>0.359863</td>\n      <td>0.433105</td>\n      <td>0.453613</td>\n      <td>0.499023</td>\n      <td>0.542969</td>\n      <td>0.616699</td>\n      <td>0.676758</td>\n      <td>...</td>\n      <td>0.0</td>\n      <td>0.0</td>\n      <td>0.0</td>\n      <td>0.0</td>\n      <td>0.0</td>\n      <td>0.0</td>\n      <td>0.0</td>\n      <td>0.0</td>\n      <td>0.0</td>\n      <td>0.0</td>\n    </tr>\n    <tr>\n      <th>...</th>\n      <td>...</td>\n      <td>...</td>\n      <td>...</td>\n      <td>...</td>\n      <td>...</td>\n      <td>...</td>\n      <td>...</td>\n      <td>...</td>\n      <td>...</td>\n      <td>...</td>\n      <td>...</td>\n      <td>...</td>\n      <td>...</td>\n      <td>...</td>\n      <td>...</td>\n      <td>...</td>\n      <td>...</td>\n      <td>...</td>\n      <td>...</td>\n      <td>...</td>\n      <td>...</td>\n    </tr>\n    <tr>\n      <th>99995</th>\n      <td>1.000000</td>\n      <td>0.677734</td>\n      <td>0.222412</td>\n      <td>0.257080</td>\n      <td>0.204712</td>\n      <td>0.054657</td>\n      <td>0.026154</td>\n      <td>0.118164</td>\n      <td>0.244873</td>\n      <td>0.328857</td>\n      <td>...</td>\n      <td>0.0</td>\n      <td>0.0</td>\n      <td>0.0</td>\n      <td>0.0</td>\n      <td>0.0</td>\n      <td>0.0</td>\n      <td>0.0</td>\n      <td>0.0</td>\n      <td>0.0</td>\n      <td>0.0</td>\n    </tr>\n    <tr>\n      <th>99996</th>\n      <td>0.926758</td>\n      <td>0.906250</td>\n      <td>0.637207</td>\n      <td>0.415039</td>\n      <td>0.374756</td>\n      <td>0.382568</td>\n      <td>0.358887</td>\n      <td>0.341309</td>\n      <td>0.336426</td>\n      <td>0.317139</td>\n      <td>...</td>\n      <td>0.0</td>\n      <td>0.0</td>\n      <td>0.0</td>\n      <td>0.0</td>\n      <td>0.0</td>\n      <td>0.0</td>\n      <td>0.0</td>\n      <td>0.0</td>\n      <td>0.0</td>\n      <td>0.0</td>\n    </tr>\n    <tr>\n      <th>99997</th>\n      <td>0.925781</td>\n      <td>0.587402</td>\n      <td>0.633301</td>\n      <td>0.632324</td>\n      <td>0.639160</td>\n      <td>0.614258</td>\n      <td>0.599121</td>\n      <td>0.517578</td>\n      <td>0.403809</td>\n      <td>0.253174</td>\n      <td>...</td>\n      <td>0.0</td>\n      <td>0.0</td>\n      <td>0.0</td>\n      <td>0.0</td>\n      <td>0.0</td>\n      <td>0.0</td>\n      <td>0.0</td>\n      <td>0.0</td>\n      <td>0.0</td>\n      <td>0.0</td>\n    </tr>\n    <tr>\n      <th>99998</th>\n      <td>1.000000</td>\n      <td>0.994629</td>\n      <td>0.829590</td>\n      <td>0.458252</td>\n      <td>0.264160</td>\n      <td>0.240234</td>\n      <td>0.213745</td>\n      <td>0.189331</td>\n      <td>0.203857</td>\n      <td>0.210815</td>\n      <td>...</td>\n      <td>0.0</td>\n      <td>0.0</td>\n      <td>0.0</td>\n      <td>0.0</td>\n      <td>0.0</td>\n      <td>0.0</td>\n      <td>0.0</td>\n      <td>0.0</td>\n      <td>0.0</td>\n      <td>0.0</td>\n    </tr>\n    <tr>\n      <th>99999</th>\n      <td>0.925781</td>\n      <td>0.916504</td>\n      <td>0.404297</td>\n      <td>0.000000</td>\n      <td>0.262939</td>\n      <td>0.385498</td>\n      <td>0.361084</td>\n      <td>0.332764</td>\n      <td>0.339844</td>\n      <td>0.350586</td>\n      <td>...</td>\n      <td>0.0</td>\n      <td>0.0</td>\n      <td>0.0</td>\n      <td>0.0</td>\n      <td>0.0</td>\n      <td>0.0</td>\n      <td>0.0</td>\n      <td>0.0</td>\n      <td>0.0</td>\n      <td>0.0</td>\n    </tr>\n  </tbody>\n</table>\n<p>100000 rows × 205 columns</p>\n</div>"
     },
     "metadata": {},
     "execution_count": 8
    }
   ],
   "source": [
    "# 去掉id和label，用于模型拟合\n",
    "x_train=train_data.drop(['id','label'], axis=1)\n",
    "y_train=train_data['label']\n",
    "x_test=testA_data.drop(['id'], axis=1)\n",
    "\n",
    "x_train"
   ]
  },
  {
   "source": [
    "#### 模型拟合"
   ],
   "cell_type": "markdown",
   "metadata": {}
  },
  {
   "cell_type": "code",
   "execution_count": 9,
   "metadata": {},
   "outputs": [],
   "source": [
    "feature_train, feature_test, label_train, label_test = train_test_split(x_train, y_train, test_size = 0.98, random_state = 10)"
   ]
  },
  {
   "cell_type": "code",
   "execution_count": 10,
   "metadata": {},
   "outputs": [
    {
     "output_type": "execute_result",
     "data": {
      "text/plain": [
       "             t0        t1        t2        t3        t4        t5        t6  \\\n",
       "37902  1.000000  0.888672  0.462158  0.194092  0.259277  0.268799  0.223999   \n",
       "91087  1.000000  0.862793  0.489014  0.012604  0.229614  0.346924  0.455566   \n",
       "76172  0.941895  0.914062  0.623047  0.381104  0.308105  0.286133  0.246460   \n",
       "24978  0.987793  0.599121  0.646484  0.679199  0.710449  0.720703  0.747070   \n",
       "58764  0.922852  0.815430  0.544922  0.360840  0.265625  0.272217  0.252441   \n",
       "...         ...       ...       ...       ...       ...       ...       ...   \n",
       "9372   0.895508  0.877441  0.511719  0.028564  0.196289  0.384766  0.409912   \n",
       "93553  0.759766  0.613770  0.347900  0.317627  0.160156  0.277588  0.079712   \n",
       "50496  0.963379  0.812500  0.162720  0.030289  0.255371  0.333252  0.372314   \n",
       "94735  1.000000  0.731445  0.265137  0.092590  0.107483  0.081360  0.031525   \n",
       "83209  1.000000  0.896973  0.173218  0.014771  0.127808  0.111389  0.097534   \n",
       "\n",
       "             t7        t8        t9  ...  t195  t196  t197  t198  t199  t200  \\\n",
       "37902  0.222046  0.218140  0.202148  ...   0.0   0.0   0.0   0.0   0.0   0.0   \n",
       "91087  0.489014  0.512695  0.533203  ...   0.0   0.0   0.0   0.0   0.0   0.0   \n",
       "76172  0.205688  0.190063  0.166260  ...   0.0   0.0   0.0   0.0   0.0   0.0   \n",
       "24978  0.684082  0.592285  0.389160  ...   0.0   0.0   0.0   0.0   0.0   0.0   \n",
       "58764  0.272217  0.278809  0.272217  ...   0.0   0.0   0.0   0.0   0.0   0.0   \n",
       "...         ...       ...       ...  ...   ...   ...   ...   ...   ...   ...   \n",
       "9372   0.464600  0.452637  0.491211  ...   0.0   0.0   0.0   0.0   0.0   0.0   \n",
       "93553  0.145386  0.120483  0.155273  ...   0.0   0.0   0.0   0.0   0.0   0.0   \n",
       "50496  0.324219  0.345459  0.339355  ...   0.0   0.0   0.0   0.0   0.0   0.0   \n",
       "94735  0.035431  0.047058  0.011909  ...   0.0   0.0   0.0   0.0   0.0   0.0   \n",
       "83209  0.086426  0.061035  0.055328  ...   0.0   0.0   0.0   0.0   0.0   0.0   \n",
       "\n",
       "       t201  t202  t203  t204  \n",
       "37902   0.0   0.0   0.0   0.0  \n",
       "91087   0.0   0.0   0.0   0.0  \n",
       "76172   0.0   0.0   0.0   0.0  \n",
       "24978   0.0   0.0   0.0   0.0  \n",
       "58764   0.0   0.0   0.0   0.0  \n",
       "...     ...   ...   ...   ...  \n",
       "9372    0.0   0.0   0.0   0.0  \n",
       "93553   0.0   0.0   0.0   0.0  \n",
       "50496   0.0   0.0   0.0   0.0  \n",
       "94735   0.0   0.0   0.0   0.0  \n",
       "83209   0.0   0.0   0.0   0.0  \n",
       "\n",
       "[2000 rows x 205 columns]"
      ],
      "text/html": "<div>\n<style scoped>\n    .dataframe tbody tr th:only-of-type {\n        vertical-align: middle;\n    }\n\n    .dataframe tbody tr th {\n        vertical-align: top;\n    }\n\n    .dataframe thead th {\n        text-align: right;\n    }\n</style>\n<table border=\"1\" class=\"dataframe\">\n  <thead>\n    <tr style=\"text-align: right;\">\n      <th></th>\n      <th>t0</th>\n      <th>t1</th>\n      <th>t2</th>\n      <th>t3</th>\n      <th>t4</th>\n      <th>t5</th>\n      <th>t6</th>\n      <th>t7</th>\n      <th>t8</th>\n      <th>t9</th>\n      <th>...</th>\n      <th>t195</th>\n      <th>t196</th>\n      <th>t197</th>\n      <th>t198</th>\n      <th>t199</th>\n      <th>t200</th>\n      <th>t201</th>\n      <th>t202</th>\n      <th>t203</th>\n      <th>t204</th>\n    </tr>\n  </thead>\n  <tbody>\n    <tr>\n      <th>37902</th>\n      <td>1.000000</td>\n      <td>0.888672</td>\n      <td>0.462158</td>\n      <td>0.194092</td>\n      <td>0.259277</td>\n      <td>0.268799</td>\n      <td>0.223999</td>\n      <td>0.222046</td>\n      <td>0.218140</td>\n      <td>0.202148</td>\n      <td>...</td>\n      <td>0.0</td>\n      <td>0.0</td>\n      <td>0.0</td>\n      <td>0.0</td>\n      <td>0.0</td>\n      <td>0.0</td>\n      <td>0.0</td>\n      <td>0.0</td>\n      <td>0.0</td>\n      <td>0.0</td>\n    </tr>\n    <tr>\n      <th>91087</th>\n      <td>1.000000</td>\n      <td>0.862793</td>\n      <td>0.489014</td>\n      <td>0.012604</td>\n      <td>0.229614</td>\n      <td>0.346924</td>\n      <td>0.455566</td>\n      <td>0.489014</td>\n      <td>0.512695</td>\n      <td>0.533203</td>\n      <td>...</td>\n      <td>0.0</td>\n      <td>0.0</td>\n      <td>0.0</td>\n      <td>0.0</td>\n      <td>0.0</td>\n      <td>0.0</td>\n      <td>0.0</td>\n      <td>0.0</td>\n      <td>0.0</td>\n      <td>0.0</td>\n    </tr>\n    <tr>\n      <th>76172</th>\n      <td>0.941895</td>\n      <td>0.914062</td>\n      <td>0.623047</td>\n      <td>0.381104</td>\n      <td>0.308105</td>\n      <td>0.286133</td>\n      <td>0.246460</td>\n      <td>0.205688</td>\n      <td>0.190063</td>\n      <td>0.166260</td>\n      <td>...</td>\n      <td>0.0</td>\n      <td>0.0</td>\n      <td>0.0</td>\n      <td>0.0</td>\n      <td>0.0</td>\n      <td>0.0</td>\n      <td>0.0</td>\n      <td>0.0</td>\n      <td>0.0</td>\n      <td>0.0</td>\n    </tr>\n    <tr>\n      <th>24978</th>\n      <td>0.987793</td>\n      <td>0.599121</td>\n      <td>0.646484</td>\n      <td>0.679199</td>\n      <td>0.710449</td>\n      <td>0.720703</td>\n      <td>0.747070</td>\n      <td>0.684082</td>\n      <td>0.592285</td>\n      <td>0.389160</td>\n      <td>...</td>\n      <td>0.0</td>\n      <td>0.0</td>\n      <td>0.0</td>\n      <td>0.0</td>\n      <td>0.0</td>\n      <td>0.0</td>\n      <td>0.0</td>\n      <td>0.0</td>\n      <td>0.0</td>\n      <td>0.0</td>\n    </tr>\n    <tr>\n      <th>58764</th>\n      <td>0.922852</td>\n      <td>0.815430</td>\n      <td>0.544922</td>\n      <td>0.360840</td>\n      <td>0.265625</td>\n      <td>0.272217</td>\n      <td>0.252441</td>\n      <td>0.272217</td>\n      <td>0.278809</td>\n      <td>0.272217</td>\n      <td>...</td>\n      <td>0.0</td>\n      <td>0.0</td>\n      <td>0.0</td>\n      <td>0.0</td>\n      <td>0.0</td>\n      <td>0.0</td>\n      <td>0.0</td>\n      <td>0.0</td>\n      <td>0.0</td>\n      <td>0.0</td>\n    </tr>\n    <tr>\n      <th>...</th>\n      <td>...</td>\n      <td>...</td>\n      <td>...</td>\n      <td>...</td>\n      <td>...</td>\n      <td>...</td>\n      <td>...</td>\n      <td>...</td>\n      <td>...</td>\n      <td>...</td>\n      <td>...</td>\n      <td>...</td>\n      <td>...</td>\n      <td>...</td>\n      <td>...</td>\n      <td>...</td>\n      <td>...</td>\n      <td>...</td>\n      <td>...</td>\n      <td>...</td>\n      <td>...</td>\n    </tr>\n    <tr>\n      <th>9372</th>\n      <td>0.895508</td>\n      <td>0.877441</td>\n      <td>0.511719</td>\n      <td>0.028564</td>\n      <td>0.196289</td>\n      <td>0.384766</td>\n      <td>0.409912</td>\n      <td>0.464600</td>\n      <td>0.452637</td>\n      <td>0.491211</td>\n      <td>...</td>\n      <td>0.0</td>\n      <td>0.0</td>\n      <td>0.0</td>\n      <td>0.0</td>\n      <td>0.0</td>\n      <td>0.0</td>\n      <td>0.0</td>\n      <td>0.0</td>\n      <td>0.0</td>\n      <td>0.0</td>\n    </tr>\n    <tr>\n      <th>93553</th>\n      <td>0.759766</td>\n      <td>0.613770</td>\n      <td>0.347900</td>\n      <td>0.317627</td>\n      <td>0.160156</td>\n      <td>0.277588</td>\n      <td>0.079712</td>\n      <td>0.145386</td>\n      <td>0.120483</td>\n      <td>0.155273</td>\n      <td>...</td>\n      <td>0.0</td>\n      <td>0.0</td>\n      <td>0.0</td>\n      <td>0.0</td>\n      <td>0.0</td>\n      <td>0.0</td>\n      <td>0.0</td>\n      <td>0.0</td>\n      <td>0.0</td>\n      <td>0.0</td>\n    </tr>\n    <tr>\n      <th>50496</th>\n      <td>0.963379</td>\n      <td>0.812500</td>\n      <td>0.162720</td>\n      <td>0.030289</td>\n      <td>0.255371</td>\n      <td>0.333252</td>\n      <td>0.372314</td>\n      <td>0.324219</td>\n      <td>0.345459</td>\n      <td>0.339355</td>\n      <td>...</td>\n      <td>0.0</td>\n      <td>0.0</td>\n      <td>0.0</td>\n      <td>0.0</td>\n      <td>0.0</td>\n      <td>0.0</td>\n      <td>0.0</td>\n      <td>0.0</td>\n      <td>0.0</td>\n      <td>0.0</td>\n    </tr>\n    <tr>\n      <th>94735</th>\n      <td>1.000000</td>\n      <td>0.731445</td>\n      <td>0.265137</td>\n      <td>0.092590</td>\n      <td>0.107483</td>\n      <td>0.081360</td>\n      <td>0.031525</td>\n      <td>0.035431</td>\n      <td>0.047058</td>\n      <td>0.011909</td>\n      <td>...</td>\n      <td>0.0</td>\n      <td>0.0</td>\n      <td>0.0</td>\n      <td>0.0</td>\n      <td>0.0</td>\n      <td>0.0</td>\n      <td>0.0</td>\n      <td>0.0</td>\n      <td>0.0</td>\n      <td>0.0</td>\n    </tr>\n    <tr>\n      <th>83209</th>\n      <td>1.000000</td>\n      <td>0.896973</td>\n      <td>0.173218</td>\n      <td>0.014771</td>\n      <td>0.127808</td>\n      <td>0.111389</td>\n      <td>0.097534</td>\n      <td>0.086426</td>\n      <td>0.061035</td>\n      <td>0.055328</td>\n      <td>...</td>\n      <td>0.0</td>\n      <td>0.0</td>\n      <td>0.0</td>\n      <td>0.0</td>\n      <td>0.0</td>\n      <td>0.0</td>\n      <td>0.0</td>\n      <td>0.0</td>\n      <td>0.0</td>\n      <td>0.0</td>\n    </tr>\n  </tbody>\n</table>\n<p>2000 rows × 205 columns</p>\n</div>"
     },
     "metadata": {},
     "execution_count": 10
    }
   ],
   "source": [
    "feature_train"
   ]
  },
  {
   "cell_type": "code",
   "execution_count": 14,
   "metadata": {},
   "outputs": [
    {
     "output_type": "stream",
     "name": "stdout",
     "text": [
      "层数>1 精确度均值: 0.650 精确度方差: 0.059\n",
      "层数>2 精确度均值: 0.767 精确度方差: 0.047\n",
      "层数>3 精确度均值: 0.873 精确度方差: 0.027\n",
      "层数>4 精确度均值: 0.926 精确度方差: 0.018\n",
      "层数>5 精确度均值: 0.938 精确度方差: 0.013\n",
      "层数>6 精确度均值: 0.947 精确度方差: 0.010\n",
      "层数>7 精确度均值: 0.947 精确度方差: 0.013\n",
      "层数>8 精确度均值: 0.951 精确度方差: 0.013\n",
      "层数>9 精确度均值: 0.951 精确度方差: 0.014\n",
      "层数>10 精确度均值: 0.950 精确度方差: 0.012\n"
     ]
    }
   ],
   "source": [
    "# adaboost + decision tree\n",
    "def get_model():\n",
    "    \"\"\"\n",
    "    产生弱分类器\n",
    "    \"\"\"\n",
    "    models=dict()\n",
    "    for i in range(1,11):\n",
    "        models[str(i)]=AdaBoostClassifier(base_estimator=DecisionTreeClassifier(max_depth=i))\n",
    "    return models\n",
    "\n",
    "def evaluate_model(model):\n",
    "    \"\"\"\n",
    "    使用交叉检验评估模型\n",
    "    \"\"\"\n",
    "    cv=RepeatedStratifiedKFold(n_splits=10,n_repeats=3,random_state=1)\n",
    "    scores=cross_val_score(model,feature_train,label_train,scoring='accuracy',cv=cv, n_jobs=-1, error_score='raise')\n",
    "    return scores\n",
    "\n",
    "\n",
    "models=get_model()\n",
    "results,names=[],[]\n",
    "for name,model in models.items():\n",
    "    scores=evaluate_model(model)\n",
    "    results.append(scores)\n",
    "    names.append(name)\n",
    "    print('层数>%s 精确度均值: %.3f 精确度方差: %.3f' % (name, np.mean(scores), np.std(scores)))"
   ]
  },
  {
   "cell_type": "code",
   "execution_count": 16,
   "metadata": {},
   "outputs": [
    {
     "output_type": "stream",
     "name": "stdout",
     "text": [
      "准确率均值: 0.648 方差：0.002\n"
     ]
    }
   ],
   "source": [
    "# adaboost + svm\n",
    "svm=SVC(probability=True,kernel='linear')\n",
    "model=AdaBoostClassifier(base_estimator=svm)\n",
    "cv=RepeatedStratifiedKFold(n_splits=10, n_repeats=3, random_state=1)\n",
    "n_scores=cross_val_score(model, feature_train, label_train, scoring='accuracy', cv=cv, n_jobs=-1, error_score='raise')\n",
    "print('准确率均值: %.3f 方差：%.3f' % (np.mean(n_scores), np.std(n_scores)))"
   ]
  },
  {
   "cell_type": "code",
   "execution_count": 20,
   "metadata": {},
   "outputs": [
    {
     "output_type": "execute_result",
     "data": {
      "text/plain": [
       "array([0.65 , 0.65 , 0.65 , 0.65 , 0.65 , 0.65 , 0.65 , 0.645, 0.645,\n",
       "       0.645, 0.65 , 0.65 , 0.65 , 0.65 , 0.65 , 0.65 , 0.65 , 0.645,\n",
       "       0.645, 0.645, 0.65 , 0.65 , 0.65 , 0.65 , 0.65 , 0.65 , 0.65 ,\n",
       "       0.645, 0.645, 0.645])"
      ]
     },
     "metadata": {},
     "execution_count": 20
    }
   ],
   "source": [
    "# 保存一下n_scores的值...不用下次再跑四十多分钟了\n",
    "n_scores_copy=np.array([0.65 , 0.65 , 0.65 , 0.65 , 0.65 , 0.65 , 0.65 , 0.645, 0.645, 0.645, 0.65 , 0.65 , 0.65 , 0.65 , 0.65 , 0.65 , 0.65 , 0.645, 0.645, 0.645, 0.65 , 0.65 , 0.65 , 0.65 , 0.65 , 0.65 , 0.65 ,0.645, 0.645, 0.645])\n",
    "n_scores_copy"
   ]
  },
  {
   "cell_type": "code",
   "execution_count": 12,
   "metadata": {},
   "outputs": [
    {
     "output_type": "stream",
     "name": "stdout",
     "text": [
      "准确率均值: 0.946 方差：0.010\n"
     ]
    }
   ],
   "source": [
    "# 随机森林\n",
    "rfc_model=RandomForestClassifier()\n",
    "cv=RepeatedStratifiedKFold(n_splits=10,n_repeats=3,random_state=1)\n",
    "rfc_scores=cross_val_score(rfc_model, feature_train, label_train, scoring='accuracy', cv=cv, n_jobs=-1, error_score='raise')\n",
    "print('准确率均值: %.3f 方差：%.3f' % (np.mean(rfc_scores), np.std(rfc_scores)))"
   ]
  },
  {
   "source": [
    "#### 最终选择使用随机森林进行模型拟合"
   ],
   "cell_type": "markdown",
   "metadata": {}
  },
  {
   "cell_type": "code",
   "execution_count": null,
   "metadata": {},
   "outputs": [],
   "source": []
  }
 ]
}