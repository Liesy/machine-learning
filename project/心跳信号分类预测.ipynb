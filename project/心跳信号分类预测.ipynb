{
 "metadata": {
  "language_info": {
   "codemirror_mode": {
    "name": "ipython",
    "version": 3
   },
   "file_extension": ".py",
   "mimetype": "text/x-python",
   "name": "python",
   "nbconvert_exporter": "python",
   "pygments_lexer": "ipython3",
   "version": "3.8.5"
  },
  "orig_nbformat": 2,
  "kernelspec": {
   "name": "python385jvsc74a57bd0344bc3422dd52e55fbee9cad45844ab5e3280f9530e561e915eb60c31950a717",
   "display_name": "Python 3.8.5 64-bit ('anaconda': virtualenv)"
  }
 },
 "nbformat": 4,
 "nbformat_minor": 2,
 "cells": [
  {
   "source": [
    "### 2021年春 模式识别与机器学习 项目 心跳信号分类预测\n",
    "### 山东大学 计算机科学与技术学院 智能19 李阳"
   ],
   "cell_type": "markdown",
   "metadata": {}
  },
  {
   "cell_type": "code",
   "execution_count": 33,
   "metadata": {},
   "outputs": [],
   "source": [
    "# 包含所需要的库\n",
    "import pandas as pd\n",
    "import numpy as np\n",
    "import matplotlib.pyplot as plt\n",
    "import seaborn as sns\n",
    "import scipy.stats as st\n",
    "from sklearn.metrics import accuracy_score, precision_score, recall_score\n",
    "from sklearn.metrics import f1_score\n",
    "from sklearn.model_selection import StratifiedKFold, KFold\n",
    "from sklearn.model_selection import train_test_split"
   ]
  },
  {
   "source": [
    "#### 查看数据信息"
   ],
   "cell_type": "markdown",
   "metadata": {}
  },
  {
   "cell_type": "code",
   "execution_count": 34,
   "metadata": {},
   "outputs": [
    {
     "output_type": "stream",
     "name": "stdout",
     "text": [
      "(100000, 2)\n"
     ]
    },
    {
     "output_type": "execute_result",
     "data": {
      "text/plain": [
       "                                       heartbeat_signals  label\n",
       "id                                                             \n",
       "0      0.9912297987616655,0.9435330436439665,0.764677...    0.0\n",
       "1      0.9714822034884503,0.9289687459588268,0.572932...    0.0\n",
       "2      1.0,0.9591487564065292,0.7013782792997189,0.23...    2.0\n",
       "3      0.9757952826275774,0.9340884687738161,0.659636...    0.0\n",
       "4      0.0,0.055816398940721094,0.26129357194994196,0...    2.0\n",
       "99995  1.0,0.677705342021188,0.22239242747868546,0.25...    0.0\n",
       "99996  0.9268571578157265,0.9063471198026871,0.636993...    2.0\n",
       "99997  0.9258351628306013,0.5873839035878395,0.633226...    3.0\n",
       "99998  1.0,0.9947621698382489,0.8297017704865509,0.45...    2.0\n",
       "99999  0.9259994004527861,0.916476635326053,0.4042900...    0.0"
      ],
      "text/html": "<div>\n<style scoped>\n    .dataframe tbody tr th:only-of-type {\n        vertical-align: middle;\n    }\n\n    .dataframe tbody tr th {\n        vertical-align: top;\n    }\n\n    .dataframe thead th {\n        text-align: right;\n    }\n</style>\n<table border=\"1\" class=\"dataframe\">\n  <thead>\n    <tr style=\"text-align: right;\">\n      <th></th>\n      <th>heartbeat_signals</th>\n      <th>label</th>\n    </tr>\n    <tr>\n      <th>id</th>\n      <th></th>\n      <th></th>\n    </tr>\n  </thead>\n  <tbody>\n    <tr>\n      <th>0</th>\n      <td>0.9912297987616655,0.9435330436439665,0.764677...</td>\n      <td>0.0</td>\n    </tr>\n    <tr>\n      <th>1</th>\n      <td>0.9714822034884503,0.9289687459588268,0.572932...</td>\n      <td>0.0</td>\n    </tr>\n    <tr>\n      <th>2</th>\n      <td>1.0,0.9591487564065292,0.7013782792997189,0.23...</td>\n      <td>2.0</td>\n    </tr>\n    <tr>\n      <th>3</th>\n      <td>0.9757952826275774,0.9340884687738161,0.659636...</td>\n      <td>0.0</td>\n    </tr>\n    <tr>\n      <th>4</th>\n      <td>0.0,0.055816398940721094,0.26129357194994196,0...</td>\n      <td>2.0</td>\n    </tr>\n    <tr>\n      <th>99995</th>\n      <td>1.0,0.677705342021188,0.22239242747868546,0.25...</td>\n      <td>0.0</td>\n    </tr>\n    <tr>\n      <th>99996</th>\n      <td>0.9268571578157265,0.9063471198026871,0.636993...</td>\n      <td>2.0</td>\n    </tr>\n    <tr>\n      <th>99997</th>\n      <td>0.9258351628306013,0.5873839035878395,0.633226...</td>\n      <td>3.0</td>\n    </tr>\n    <tr>\n      <th>99998</th>\n      <td>1.0,0.9947621698382489,0.8297017704865509,0.45...</td>\n      <td>2.0</td>\n    </tr>\n    <tr>\n      <th>99999</th>\n      <td>0.9259994004527861,0.916476635326053,0.4042900...</td>\n      <td>0.0</td>\n    </tr>\n  </tbody>\n</table>\n</div>"
     },
     "metadata": {},
     "execution_count": 34
    }
   ],
   "source": [
    "train_data=pd.read_csv('./train.csv',index_col=0) # 训练集\n",
    "testA_data=pd.read_csv('./testA.csv',index_col=0) # 测试集\n",
    "print(train_data.shape)\n",
    "train_data.head().append(train_data.tail()) # 查看数据的行列信息"
   ]
  },
  {
   "source": [
    "train_data.info # 数据类型"
   ],
   "cell_type": "code",
   "metadata": {},
   "execution_count": 36,
   "outputs": [
    {
     "output_type": "execute_result",
     "data": {
      "text/plain": [
       "<bound method DataFrame.info of                                        heartbeat_signals  label\n",
       "id                                                             \n",
       "0      0.9912297987616655,0.9435330436439665,0.764677...    0.0\n",
       "1      0.9714822034884503,0.9289687459588268,0.572932...    0.0\n",
       "2      1.0,0.9591487564065292,0.7013782792997189,0.23...    2.0\n",
       "3      0.9757952826275774,0.9340884687738161,0.659636...    0.0\n",
       "4      0.0,0.055816398940721094,0.26129357194994196,0...    2.0\n",
       "...                                                  ...    ...\n",
       "99995  1.0,0.677705342021188,0.22239242747868546,0.25...    0.0\n",
       "99996  0.9268571578157265,0.9063471198026871,0.636993...    2.0\n",
       "99997  0.9258351628306013,0.5873839035878395,0.633226...    3.0\n",
       "99998  1.0,0.9947621698382489,0.8297017704865509,0.45...    2.0\n",
       "99999  0.9259994004527861,0.916476635326053,0.4042900...    0.0\n",
       "\n",
       "[100000 rows x 2 columns]>"
      ]
     },
     "metadata": {},
     "execution_count": 36
    }
   ]
  },
  {
   "cell_type": "code",
   "execution_count": 37,
   "metadata": {},
   "outputs": [
    {
     "output_type": "execute_result",
     "data": {
      "text/plain": [
       "heartbeat_signals    0\n",
       "label                0\n",
       "dtype: int64"
      ]
     },
     "metadata": {},
     "execution_count": 37
    }
   ],
   "source": [
    "train_data.isnull().sum() # 检查是否有缺省值"
   ]
  },
  {
   "cell_type": "code",
   "execution_count": 38,
   "metadata": {},
   "outputs": [
    {
     "output_type": "execute_result",
     "data": {
      "text/plain": [
       "0.0    64327\n",
       "3.0    17912\n",
       "2.0    14199\n",
       "1.0     3562\n",
       "Name: label, dtype: int64"
      ]
     },
     "metadata": {},
     "execution_count": 38
    }
   ],
   "source": [
    "train_data['label'].value_counts() # 查看预测值的分布情况"
   ]
  },
  {
   "source": [
    "#### 数据处理"
   ],
   "cell_type": "markdown",
   "metadata": {}
  },
  {
   "cell_type": "code",
   "execution_count": null,
   "metadata": {},
   "outputs": [],
   "source": []
  }
 ]
}