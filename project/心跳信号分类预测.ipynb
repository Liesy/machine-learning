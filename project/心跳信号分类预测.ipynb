{
 "metadata": {
  "language_info": {
   "codemirror_mode": {
    "name": "ipython",
    "version": 3
   },
   "file_extension": ".py",
   "mimetype": "text/x-python",
   "name": "python",
   "nbconvert_exporter": "python",
   "pygments_lexer": "ipython3",
   "version": "3.8.5"
  },
  "orig_nbformat": 2,
  "kernelspec": {
   "name": "python385jvsc74a57bd0344bc3422dd52e55fbee9cad45844ab5e3280f9530e561e915eb60c31950a717",
   "display_name": "Python 3.8.5 64-bit ('base': conda)"
  }
 },
 "nbformat": 4,
 "nbformat_minor": 2,
 "cells": [
  {
   "source": [
    "### 2021年春 模式识别与机器学习 项目 心跳信号分类预测\n",
    "### 山东大学 计算机科学与技术学院 智能19 李阳"
   ],
   "cell_type": "markdown",
   "metadata": {}
  },
  {
   "cell_type": "code",
   "execution_count": 1,
   "metadata": {},
   "outputs": [],
   "source": [
    "# 包含所需要的库\n",
    "# 关于如何直接导出ipynb为pdf且支持中文的参考https://www.cnblogs.com/myfy/p/12829122.html\n",
    "import pandas as pd\n",
    "import numpy as np\n",
    "import matplotlib.pyplot as plt\n",
    "import seaborn as sns\n",
    "import scipy.stats as st\n",
    "from math import sqrt\n",
    "from math import exp\n",
    "from math import pi\n",
    "from sklearn.metrics import accuracy_score, precision_score, recall_score\n",
    "from sklearn.metrics import f1_score\n",
    "from sklearn.model_selection import StratifiedKFold, KFold\n",
    "from sklearn.model_selection import train_test_split\n",
    "from sklearn.model_selection import cross_val_score, RepeatedStratifiedKFold\n",
    "from sklearn.model_selection import GridSearchCV, RandomizedSearchCV\n",
    "from sklearn.ensemble import AdaBoostClassifier\n",
    "from sklearn.ensemble import RandomForestClassifier\n",
    "from sklearn.tree import DecisionTreeClassifier\n",
    "from sklearn.svm import SVC"
   ]
  },
  {
   "source": [
    "#### 查看数据信息"
   ],
   "cell_type": "markdown",
   "metadata": {}
  },
  {
   "cell_type": "code",
   "execution_count": 2,
   "metadata": {},
   "outputs": [
    {
     "output_type": "stream",
     "name": "stdout",
     "text": [
      "(100000, 3)\n"
     ]
    },
    {
     "output_type": "execute_result",
     "data": {
      "text/plain": [
       "          id                                  heartbeat_signals  label\n",
       "0          0  0.9912297987616655,0.9435330436439665,0.764677...    0.0\n",
       "1          1  0.9714822034884503,0.9289687459588268,0.572932...    0.0\n",
       "2          2  1.0,0.9591487564065292,0.7013782792997189,0.23...    2.0\n",
       "3          3  0.9757952826275774,0.9340884687738161,0.659636...    0.0\n",
       "4          4  0.0,0.055816398940721094,0.26129357194994196,0...    2.0\n",
       "99995  99995  1.0,0.677705342021188,0.22239242747868546,0.25...    0.0\n",
       "99996  99996  0.9268571578157265,0.9063471198026871,0.636993...    2.0\n",
       "99997  99997  0.9258351628306013,0.5873839035878395,0.633226...    3.0\n",
       "99998  99998  1.0,0.9947621698382489,0.8297017704865509,0.45...    2.0\n",
       "99999  99999  0.9259994004527861,0.916476635326053,0.4042900...    0.0"
      ],
      "text/html": "<div>\n<style scoped>\n    .dataframe tbody tr th:only-of-type {\n        vertical-align: middle;\n    }\n\n    .dataframe tbody tr th {\n        vertical-align: top;\n    }\n\n    .dataframe thead th {\n        text-align: right;\n    }\n</style>\n<table border=\"1\" class=\"dataframe\">\n  <thead>\n    <tr style=\"text-align: right;\">\n      <th></th>\n      <th>id</th>\n      <th>heartbeat_signals</th>\n      <th>label</th>\n    </tr>\n  </thead>\n  <tbody>\n    <tr>\n      <th>0</th>\n      <td>0</td>\n      <td>0.9912297987616655,0.9435330436439665,0.764677...</td>\n      <td>0.0</td>\n    </tr>\n    <tr>\n      <th>1</th>\n      <td>1</td>\n      <td>0.9714822034884503,0.9289687459588268,0.572932...</td>\n      <td>0.0</td>\n    </tr>\n    <tr>\n      <th>2</th>\n      <td>2</td>\n      <td>1.0,0.9591487564065292,0.7013782792997189,0.23...</td>\n      <td>2.0</td>\n    </tr>\n    <tr>\n      <th>3</th>\n      <td>3</td>\n      <td>0.9757952826275774,0.9340884687738161,0.659636...</td>\n      <td>0.0</td>\n    </tr>\n    <tr>\n      <th>4</th>\n      <td>4</td>\n      <td>0.0,0.055816398940721094,0.26129357194994196,0...</td>\n      <td>2.0</td>\n    </tr>\n    <tr>\n      <th>99995</th>\n      <td>99995</td>\n      <td>1.0,0.677705342021188,0.22239242747868546,0.25...</td>\n      <td>0.0</td>\n    </tr>\n    <tr>\n      <th>99996</th>\n      <td>99996</td>\n      <td>0.9268571578157265,0.9063471198026871,0.636993...</td>\n      <td>2.0</td>\n    </tr>\n    <tr>\n      <th>99997</th>\n      <td>99997</td>\n      <td>0.9258351628306013,0.5873839035878395,0.633226...</td>\n      <td>3.0</td>\n    </tr>\n    <tr>\n      <th>99998</th>\n      <td>99998</td>\n      <td>1.0,0.9947621698382489,0.8297017704865509,0.45...</td>\n      <td>2.0</td>\n    </tr>\n    <tr>\n      <th>99999</th>\n      <td>99999</td>\n      <td>0.9259994004527861,0.916476635326053,0.4042900...</td>\n      <td>0.0</td>\n    </tr>\n  </tbody>\n</table>\n</div>"
     },
     "metadata": {},
     "execution_count": 2
    }
   ],
   "source": [
    "train_data=pd.read_csv('./train.csv') # 训练集\n",
    "testA_data=pd.read_csv('./testA.csv') # 测试集\n",
    "print(train_data.shape)\n",
    "train_data.head().append(train_data.tail()) # 查看数据的行列信息"
   ]
  },
  {
   "source": [
    "train_data.info # 数据类型"
   ],
   "cell_type": "code",
   "metadata": {},
   "execution_count": 3,
   "outputs": [
    {
     "output_type": "execute_result",
     "data": {
      "text/plain": [
       "<bound method DataFrame.info of           id                                  heartbeat_signals  label\n",
       "0          0  0.9912297987616655,0.9435330436439665,0.764677...    0.0\n",
       "1          1  0.9714822034884503,0.9289687459588268,0.572932...    0.0\n",
       "2          2  1.0,0.9591487564065292,0.7013782792997189,0.23...    2.0\n",
       "3          3  0.9757952826275774,0.9340884687738161,0.659636...    0.0\n",
       "4          4  0.0,0.055816398940721094,0.26129357194994196,0...    2.0\n",
       "...      ...                                                ...    ...\n",
       "99995  99995  1.0,0.677705342021188,0.22239242747868546,0.25...    0.0\n",
       "99996  99996  0.9268571578157265,0.9063471198026871,0.636993...    2.0\n",
       "99997  99997  0.9258351628306013,0.5873839035878395,0.633226...    3.0\n",
       "99998  99998  1.0,0.9947621698382489,0.8297017704865509,0.45...    2.0\n",
       "99999  99999  0.9259994004527861,0.916476635326053,0.4042900...    0.0\n",
       "\n",
       "[100000 rows x 3 columns]>"
      ]
     },
     "metadata": {},
     "execution_count": 3
    }
   ]
  },
  {
   "cell_type": "code",
   "execution_count": 4,
   "metadata": {},
   "outputs": [
    {
     "output_type": "execute_result",
     "data": {
      "text/plain": [
       "id                   0\n",
       "heartbeat_signals    0\n",
       "label                0\n",
       "dtype: int64"
      ]
     },
     "metadata": {},
     "execution_count": 4
    }
   ],
   "source": [
    "train_data.isnull().sum() # 检查是否有缺省值"
   ]
  },
  {
   "cell_type": "code",
   "execution_count": 5,
   "metadata": {},
   "outputs": [
    {
     "output_type": "execute_result",
     "data": {
      "text/plain": [
       "0.0    64327\n",
       "3.0    17912\n",
       "2.0    14199\n",
       "1.0     3562\n",
       "Name: label, dtype: int64"
      ]
     },
     "metadata": {},
     "execution_count": 5
    }
   ],
   "source": [
    "train_data['label'].value_counts() # 查看预测值的分布情况"
   ]
  },
  {
   "source": [
    "#### 数据处理"
   ],
   "cell_type": "markdown",
   "metadata": {}
  },
  {
   "cell_type": "code",
   "execution_count": 6,
   "metadata": {},
   "outputs": [],
   "source": [
    "# 修改数据类型节省内存，将category类代替object类\n",
    "def dataProcess(df):\n",
    "    for col in df.columns:\n",
    "        col_type = df[col].dtype\n",
    "        if col_type != object:\n",
    "            c_min = df[col].min()\n",
    "            c_max = df[col].max()\n",
    "            if str(col_type)[:3] == 'int':\n",
    "                if c_min > np.iinfo(np.int8).min and c_max < np.iinfo(np.int8).max:\n",
    "                    df[col] = df[col].astype(np.int8)\n",
    "                elif c_min > np.iinfo(np.int16).min and c_max < np.iinfo(np.int16).max:\n",
    "                    df[col] = df[col].astype(np.int16)\n",
    "                elif c_min > np.iinfo(np.int32).min and c_max < np.iinfo(np.int32).max:\n",
    "                    df[col] = df[col].astype(np.int32)\n",
    "                elif c_min > np.iinfo(np.int64).min and c_max < np.iinfo(np.int64).max:\n",
    "                    df[col] = df[col].astype(np.int64)  \n",
    "            else:\n",
    "                if c_min > np.finfo(np.float16).min and c_max < np.finfo(np.float16).max:\n",
    "                    df[col] = df[col].astype(np.float16)\n",
    "                elif c_min > np.finfo(np.float32).min and c_max < np.finfo(np.float32).max:\n",
    "                    df[col] = df[col].astype(np.float32)\n",
    "                else:\n",
    "                    df[col] = df[col].astype(np.float64)\n",
    "        else:\n",
    "            df[col] = df[col].astype('category')\n",
    "    return df"
   ]
  },
  {
   "cell_type": "code",
   "execution_count": 7,
   "metadata": {},
   "outputs": [
    {
     "output_type": "execute_result",
     "data": {
      "text/plain": [
       "            id        t0        t1        t2        t3        t4        t5  \\\n",
       "0          0.0  0.991211  0.943359  0.764648  0.618652  0.379639  0.190796   \n",
       "1          1.0  0.971680  0.929199  0.572754  0.178467  0.122986  0.132324   \n",
       "2          2.0  1.000000  0.958984  0.701172  0.231812  0.000000  0.080688   \n",
       "3          3.0  0.975586  0.934082  0.659668  0.249878  0.237061  0.281494   \n",
       "4          4.0  0.000000  0.055817  0.261230  0.359863  0.433105  0.453613   \n",
       "99995  99995.0  1.000000  0.677734  0.222412  0.257080  0.204712  0.054657   \n",
       "99996  99996.0  0.926758  0.906250  0.637207  0.415039  0.374756  0.382568   \n",
       "99997  99997.0  0.925781  0.587402  0.633301  0.632324  0.639160  0.614258   \n",
       "99998  99998.0  1.000000  0.994629  0.829590  0.458252  0.264160  0.240234   \n",
       "99999  99999.0  0.925781  0.916504  0.404297  0.000000  0.262939  0.385498   \n",
       "\n",
       "             t6        t7        t8  ...  t196  t197  t198  t199  t200  t201  \\\n",
       "0      0.040222  0.026001  0.031708  ...   0.0   0.0   0.0   0.0   0.0   0.0   \n",
       "1      0.094421  0.089600  0.030487  ...   0.0   0.0   0.0   0.0   0.0   0.0   \n",
       "2      0.128418  0.187500  0.280762  ...   0.0   0.0   0.0   0.0   0.0   0.0   \n",
       "3      0.249878  0.249878  0.241455  ...   0.0   0.0   0.0   0.0   0.0   0.0   \n",
       "4      0.499023  0.542969  0.616699  ...   0.0   0.0   0.0   0.0   0.0   0.0   \n",
       "99995  0.026154  0.118164  0.244873  ...   0.0   0.0   0.0   0.0   0.0   0.0   \n",
       "99996  0.358887  0.341309  0.336426  ...   0.0   0.0   0.0   0.0   0.0   0.0   \n",
       "99997  0.599121  0.517578  0.403809  ...   0.0   0.0   0.0   0.0   0.0   0.0   \n",
       "99998  0.213745  0.189331  0.203857  ...   0.0   0.0   0.0   0.0   0.0   0.0   \n",
       "99999  0.361084  0.332764  0.339844  ...   0.0   0.0   0.0   0.0   0.0   0.0   \n",
       "\n",
       "       t202  t203  t204  label  \n",
       "0       0.0   0.0   0.0    0.0  \n",
       "1       0.0   0.0   0.0    0.0  \n",
       "2       0.0   0.0   0.0    2.0  \n",
       "3       0.0   0.0   0.0    0.0  \n",
       "4       0.0   0.0   0.0    2.0  \n",
       "99995   0.0   0.0   0.0    0.0  \n",
       "99996   0.0   0.0   0.0    2.0  \n",
       "99997   0.0   0.0   0.0    3.0  \n",
       "99998   0.0   0.0   0.0    2.0  \n",
       "99999   0.0   0.0   0.0    0.0  \n",
       "\n",
       "[10 rows x 207 columns]"
      ],
      "text/html": "<div>\n<style scoped>\n    .dataframe tbody tr th:only-of-type {\n        vertical-align: middle;\n    }\n\n    .dataframe tbody tr th {\n        vertical-align: top;\n    }\n\n    .dataframe thead th {\n        text-align: right;\n    }\n</style>\n<table border=\"1\" class=\"dataframe\">\n  <thead>\n    <tr style=\"text-align: right;\">\n      <th></th>\n      <th>id</th>\n      <th>t0</th>\n      <th>t1</th>\n      <th>t2</th>\n      <th>t3</th>\n      <th>t4</th>\n      <th>t5</th>\n      <th>t6</th>\n      <th>t7</th>\n      <th>t8</th>\n      <th>...</th>\n      <th>t196</th>\n      <th>t197</th>\n      <th>t198</th>\n      <th>t199</th>\n      <th>t200</th>\n      <th>t201</th>\n      <th>t202</th>\n      <th>t203</th>\n      <th>t204</th>\n      <th>label</th>\n    </tr>\n  </thead>\n  <tbody>\n    <tr>\n      <th>0</th>\n      <td>0.0</td>\n      <td>0.991211</td>\n      <td>0.943359</td>\n      <td>0.764648</td>\n      <td>0.618652</td>\n      <td>0.379639</td>\n      <td>0.190796</td>\n      <td>0.040222</td>\n      <td>0.026001</td>\n      <td>0.031708</td>\n      <td>...</td>\n      <td>0.0</td>\n      <td>0.0</td>\n      <td>0.0</td>\n      <td>0.0</td>\n      <td>0.0</td>\n      <td>0.0</td>\n      <td>0.0</td>\n      <td>0.0</td>\n      <td>0.0</td>\n      <td>0.0</td>\n    </tr>\n    <tr>\n      <th>1</th>\n      <td>1.0</td>\n      <td>0.971680</td>\n      <td>0.929199</td>\n      <td>0.572754</td>\n      <td>0.178467</td>\n      <td>0.122986</td>\n      <td>0.132324</td>\n      <td>0.094421</td>\n      <td>0.089600</td>\n      <td>0.030487</td>\n      <td>...</td>\n      <td>0.0</td>\n      <td>0.0</td>\n      <td>0.0</td>\n      <td>0.0</td>\n      <td>0.0</td>\n      <td>0.0</td>\n      <td>0.0</td>\n      <td>0.0</td>\n      <td>0.0</td>\n      <td>0.0</td>\n    </tr>\n    <tr>\n      <th>2</th>\n      <td>2.0</td>\n      <td>1.000000</td>\n      <td>0.958984</td>\n      <td>0.701172</td>\n      <td>0.231812</td>\n      <td>0.000000</td>\n      <td>0.080688</td>\n      <td>0.128418</td>\n      <td>0.187500</td>\n      <td>0.280762</td>\n      <td>...</td>\n      <td>0.0</td>\n      <td>0.0</td>\n      <td>0.0</td>\n      <td>0.0</td>\n      <td>0.0</td>\n      <td>0.0</td>\n      <td>0.0</td>\n      <td>0.0</td>\n      <td>0.0</td>\n      <td>2.0</td>\n    </tr>\n    <tr>\n      <th>3</th>\n      <td>3.0</td>\n      <td>0.975586</td>\n      <td>0.934082</td>\n      <td>0.659668</td>\n      <td>0.249878</td>\n      <td>0.237061</td>\n      <td>0.281494</td>\n      <td>0.249878</td>\n      <td>0.249878</td>\n      <td>0.241455</td>\n      <td>...</td>\n      <td>0.0</td>\n      <td>0.0</td>\n      <td>0.0</td>\n      <td>0.0</td>\n      <td>0.0</td>\n      <td>0.0</td>\n      <td>0.0</td>\n      <td>0.0</td>\n      <td>0.0</td>\n      <td>0.0</td>\n    </tr>\n    <tr>\n      <th>4</th>\n      <td>4.0</td>\n      <td>0.000000</td>\n      <td>0.055817</td>\n      <td>0.261230</td>\n      <td>0.359863</td>\n      <td>0.433105</td>\n      <td>0.453613</td>\n      <td>0.499023</td>\n      <td>0.542969</td>\n      <td>0.616699</td>\n      <td>...</td>\n      <td>0.0</td>\n      <td>0.0</td>\n      <td>0.0</td>\n      <td>0.0</td>\n      <td>0.0</td>\n      <td>0.0</td>\n      <td>0.0</td>\n      <td>0.0</td>\n      <td>0.0</td>\n      <td>2.0</td>\n    </tr>\n    <tr>\n      <th>99995</th>\n      <td>99995.0</td>\n      <td>1.000000</td>\n      <td>0.677734</td>\n      <td>0.222412</td>\n      <td>0.257080</td>\n      <td>0.204712</td>\n      <td>0.054657</td>\n      <td>0.026154</td>\n      <td>0.118164</td>\n      <td>0.244873</td>\n      <td>...</td>\n      <td>0.0</td>\n      <td>0.0</td>\n      <td>0.0</td>\n      <td>0.0</td>\n      <td>0.0</td>\n      <td>0.0</td>\n      <td>0.0</td>\n      <td>0.0</td>\n      <td>0.0</td>\n      <td>0.0</td>\n    </tr>\n    <tr>\n      <th>99996</th>\n      <td>99996.0</td>\n      <td>0.926758</td>\n      <td>0.906250</td>\n      <td>0.637207</td>\n      <td>0.415039</td>\n      <td>0.374756</td>\n      <td>0.382568</td>\n      <td>0.358887</td>\n      <td>0.341309</td>\n      <td>0.336426</td>\n      <td>...</td>\n      <td>0.0</td>\n      <td>0.0</td>\n      <td>0.0</td>\n      <td>0.0</td>\n      <td>0.0</td>\n      <td>0.0</td>\n      <td>0.0</td>\n      <td>0.0</td>\n      <td>0.0</td>\n      <td>2.0</td>\n    </tr>\n    <tr>\n      <th>99997</th>\n      <td>99997.0</td>\n      <td>0.925781</td>\n      <td>0.587402</td>\n      <td>0.633301</td>\n      <td>0.632324</td>\n      <td>0.639160</td>\n      <td>0.614258</td>\n      <td>0.599121</td>\n      <td>0.517578</td>\n      <td>0.403809</td>\n      <td>...</td>\n      <td>0.0</td>\n      <td>0.0</td>\n      <td>0.0</td>\n      <td>0.0</td>\n      <td>0.0</td>\n      <td>0.0</td>\n      <td>0.0</td>\n      <td>0.0</td>\n      <td>0.0</td>\n      <td>3.0</td>\n    </tr>\n    <tr>\n      <th>99998</th>\n      <td>99998.0</td>\n      <td>1.000000</td>\n      <td>0.994629</td>\n      <td>0.829590</td>\n      <td>0.458252</td>\n      <td>0.264160</td>\n      <td>0.240234</td>\n      <td>0.213745</td>\n      <td>0.189331</td>\n      <td>0.203857</td>\n      <td>...</td>\n      <td>0.0</td>\n      <td>0.0</td>\n      <td>0.0</td>\n      <td>0.0</td>\n      <td>0.0</td>\n      <td>0.0</td>\n      <td>0.0</td>\n      <td>0.0</td>\n      <td>0.0</td>\n      <td>2.0</td>\n    </tr>\n    <tr>\n      <th>99999</th>\n      <td>99999.0</td>\n      <td>0.925781</td>\n      <td>0.916504</td>\n      <td>0.404297</td>\n      <td>0.000000</td>\n      <td>0.262939</td>\n      <td>0.385498</td>\n      <td>0.361084</td>\n      <td>0.332764</td>\n      <td>0.339844</td>\n      <td>...</td>\n      <td>0.0</td>\n      <td>0.0</td>\n      <td>0.0</td>\n      <td>0.0</td>\n      <td>0.0</td>\n      <td>0.0</td>\n      <td>0.0</td>\n      <td>0.0</td>\n      <td>0.0</td>\n      <td>0.0</td>\n    </tr>\n  </tbody>\n</table>\n<p>10 rows × 207 columns</p>\n</div>"
     },
     "metadata": {},
     "execution_count": 7
    }
   ],
   "source": [
    "# 将题目中所给的heartbeat-signal信息重新整理，并对内存进行优化\n",
    "train_list=[]\n",
    "for items in train_data.values:\n",
    "    train_list.append([items[0]]+[float(i) for i in items[1].split(',')]+[items[2]])\n",
    "train_data=pd.DataFrame(np.array(train_list))\n",
    "train_data.columns=['id']+['t'+str(i) for i in range(len(train_list[0])-2)]+['label']\n",
    "train_data=dataProcess(train_data)\n",
    "\n",
    "testA_list=[]\n",
    "for items in testA_data.values:\n",
    "    testA_list.append([items[0]]+[float(i) for i in items[1].split(',')])\n",
    "testA_data=pd.DataFrame(np.array(testA_list))\n",
    "testA_data.columns=['id']+['t'+str(i) for i in range(len(testA_list[0])-1)]\n",
    "testA_data=dataProcess(testA_data)\n",
    "\n",
    "train_data.head().append(train_data.tail())"
   ]
  },
  {
   "cell_type": "code",
   "execution_count": 8,
   "metadata": {},
   "outputs": [
    {
     "output_type": "execute_result",
     "data": {
      "text/plain": [
       "             t0        t1        t2        t3        t4        t5        t6  \\\n",
       "0      0.991211  0.943359  0.764648  0.618652  0.379639  0.190796  0.040222   \n",
       "1      0.971680  0.929199  0.572754  0.178467  0.122986  0.132324  0.094421   \n",
       "2      1.000000  0.958984  0.701172  0.231812  0.000000  0.080688  0.128418   \n",
       "3      0.975586  0.934082  0.659668  0.249878  0.237061  0.281494  0.249878   \n",
       "4      0.000000  0.055817  0.261230  0.359863  0.433105  0.453613  0.499023   \n",
       "...         ...       ...       ...       ...       ...       ...       ...   \n",
       "99995  1.000000  0.677734  0.222412  0.257080  0.204712  0.054657  0.026154   \n",
       "99996  0.926758  0.906250  0.637207  0.415039  0.374756  0.382568  0.358887   \n",
       "99997  0.925781  0.587402  0.633301  0.632324  0.639160  0.614258  0.599121   \n",
       "99998  1.000000  0.994629  0.829590  0.458252  0.264160  0.240234  0.213745   \n",
       "99999  0.925781  0.916504  0.404297  0.000000  0.262939  0.385498  0.361084   \n",
       "\n",
       "             t7        t8        t9  ...  t195  t196  t197  t198  t199  t200  \\\n",
       "0      0.026001  0.031708  0.065552  ...   0.0   0.0   0.0   0.0   0.0   0.0   \n",
       "1      0.089600  0.030487  0.040497  ...   0.0   0.0   0.0   0.0   0.0   0.0   \n",
       "2      0.187500  0.280762  0.328369  ...   0.0   0.0   0.0   0.0   0.0   0.0   \n",
       "3      0.249878  0.241455  0.230713  ...   0.0   0.0   0.0   0.0   0.0   0.0   \n",
       "4      0.542969  0.616699  0.676758  ...   0.0   0.0   0.0   0.0   0.0   0.0   \n",
       "...         ...       ...       ...  ...   ...   ...   ...   ...   ...   ...   \n",
       "99995  0.118164  0.244873  0.328857  ...   0.0   0.0   0.0   0.0   0.0   0.0   \n",
       "99996  0.341309  0.336426  0.317139  ...   0.0   0.0   0.0   0.0   0.0   0.0   \n",
       "99997  0.517578  0.403809  0.253174  ...   0.0   0.0   0.0   0.0   0.0   0.0   \n",
       "99998  0.189331  0.203857  0.210815  ...   0.0   0.0   0.0   0.0   0.0   0.0   \n",
       "99999  0.332764  0.339844  0.350586  ...   0.0   0.0   0.0   0.0   0.0   0.0   \n",
       "\n",
       "       t201  t202  t203  t204  \n",
       "0       0.0   0.0   0.0   0.0  \n",
       "1       0.0   0.0   0.0   0.0  \n",
       "2       0.0   0.0   0.0   0.0  \n",
       "3       0.0   0.0   0.0   0.0  \n",
       "4       0.0   0.0   0.0   0.0  \n",
       "...     ...   ...   ...   ...  \n",
       "99995   0.0   0.0   0.0   0.0  \n",
       "99996   0.0   0.0   0.0   0.0  \n",
       "99997   0.0   0.0   0.0   0.0  \n",
       "99998   0.0   0.0   0.0   0.0  \n",
       "99999   0.0   0.0   0.0   0.0  \n",
       "\n",
       "[100000 rows x 205 columns]"
      ],
      "text/html": "<div>\n<style scoped>\n    .dataframe tbody tr th:only-of-type {\n        vertical-align: middle;\n    }\n\n    .dataframe tbody tr th {\n        vertical-align: top;\n    }\n\n    .dataframe thead th {\n        text-align: right;\n    }\n</style>\n<table border=\"1\" class=\"dataframe\">\n  <thead>\n    <tr style=\"text-align: right;\">\n      <th></th>\n      <th>t0</th>\n      <th>t1</th>\n      <th>t2</th>\n      <th>t3</th>\n      <th>t4</th>\n      <th>t5</th>\n      <th>t6</th>\n      <th>t7</th>\n      <th>t8</th>\n      <th>t9</th>\n      <th>...</th>\n      <th>t195</th>\n      <th>t196</th>\n      <th>t197</th>\n      <th>t198</th>\n      <th>t199</th>\n      <th>t200</th>\n      <th>t201</th>\n      <th>t202</th>\n      <th>t203</th>\n      <th>t204</th>\n    </tr>\n  </thead>\n  <tbody>\n    <tr>\n      <th>0</th>\n      <td>0.991211</td>\n      <td>0.943359</td>\n      <td>0.764648</td>\n      <td>0.618652</td>\n      <td>0.379639</td>\n      <td>0.190796</td>\n      <td>0.040222</td>\n      <td>0.026001</td>\n      <td>0.031708</td>\n      <td>0.065552</td>\n      <td>...</td>\n      <td>0.0</td>\n      <td>0.0</td>\n      <td>0.0</td>\n      <td>0.0</td>\n      <td>0.0</td>\n      <td>0.0</td>\n      <td>0.0</td>\n      <td>0.0</td>\n      <td>0.0</td>\n      <td>0.0</td>\n    </tr>\n    <tr>\n      <th>1</th>\n      <td>0.971680</td>\n      <td>0.929199</td>\n      <td>0.572754</td>\n      <td>0.178467</td>\n      <td>0.122986</td>\n      <td>0.132324</td>\n      <td>0.094421</td>\n      <td>0.089600</td>\n      <td>0.030487</td>\n      <td>0.040497</td>\n      <td>...</td>\n      <td>0.0</td>\n      <td>0.0</td>\n      <td>0.0</td>\n      <td>0.0</td>\n      <td>0.0</td>\n      <td>0.0</td>\n      <td>0.0</td>\n      <td>0.0</td>\n      <td>0.0</td>\n      <td>0.0</td>\n    </tr>\n    <tr>\n      <th>2</th>\n      <td>1.000000</td>\n      <td>0.958984</td>\n      <td>0.701172</td>\n      <td>0.231812</td>\n      <td>0.000000</td>\n      <td>0.080688</td>\n      <td>0.128418</td>\n      <td>0.187500</td>\n      <td>0.280762</td>\n      <td>0.328369</td>\n      <td>...</td>\n      <td>0.0</td>\n      <td>0.0</td>\n      <td>0.0</td>\n      <td>0.0</td>\n      <td>0.0</td>\n      <td>0.0</td>\n      <td>0.0</td>\n      <td>0.0</td>\n      <td>0.0</td>\n      <td>0.0</td>\n    </tr>\n    <tr>\n      <th>3</th>\n      <td>0.975586</td>\n      <td>0.934082</td>\n      <td>0.659668</td>\n      <td>0.249878</td>\n      <td>0.237061</td>\n      <td>0.281494</td>\n      <td>0.249878</td>\n      <td>0.249878</td>\n      <td>0.241455</td>\n      <td>0.230713</td>\n      <td>...</td>\n      <td>0.0</td>\n      <td>0.0</td>\n      <td>0.0</td>\n      <td>0.0</td>\n      <td>0.0</td>\n      <td>0.0</td>\n      <td>0.0</td>\n      <td>0.0</td>\n      <td>0.0</td>\n      <td>0.0</td>\n    </tr>\n    <tr>\n      <th>4</th>\n      <td>0.000000</td>\n      <td>0.055817</td>\n      <td>0.261230</td>\n      <td>0.359863</td>\n      <td>0.433105</td>\n      <td>0.453613</td>\n      <td>0.499023</td>\n      <td>0.542969</td>\n      <td>0.616699</td>\n      <td>0.676758</td>\n      <td>...</td>\n      <td>0.0</td>\n      <td>0.0</td>\n      <td>0.0</td>\n      <td>0.0</td>\n      <td>0.0</td>\n      <td>0.0</td>\n      <td>0.0</td>\n      <td>0.0</td>\n      <td>0.0</td>\n      <td>0.0</td>\n    </tr>\n    <tr>\n      <th>...</th>\n      <td>...</td>\n      <td>...</td>\n      <td>...</td>\n      <td>...</td>\n      <td>...</td>\n      <td>...</td>\n      <td>...</td>\n      <td>...</td>\n      <td>...</td>\n      <td>...</td>\n      <td>...</td>\n      <td>...</td>\n      <td>...</td>\n      <td>...</td>\n      <td>...</td>\n      <td>...</td>\n      <td>...</td>\n      <td>...</td>\n      <td>...</td>\n      <td>...</td>\n      <td>...</td>\n    </tr>\n    <tr>\n      <th>99995</th>\n      <td>1.000000</td>\n      <td>0.677734</td>\n      <td>0.222412</td>\n      <td>0.257080</td>\n      <td>0.204712</td>\n      <td>0.054657</td>\n      <td>0.026154</td>\n      <td>0.118164</td>\n      <td>0.244873</td>\n      <td>0.328857</td>\n      <td>...</td>\n      <td>0.0</td>\n      <td>0.0</td>\n      <td>0.0</td>\n      <td>0.0</td>\n      <td>0.0</td>\n      <td>0.0</td>\n      <td>0.0</td>\n      <td>0.0</td>\n      <td>0.0</td>\n      <td>0.0</td>\n    </tr>\n    <tr>\n      <th>99996</th>\n      <td>0.926758</td>\n      <td>0.906250</td>\n      <td>0.637207</td>\n      <td>0.415039</td>\n      <td>0.374756</td>\n      <td>0.382568</td>\n      <td>0.358887</td>\n      <td>0.341309</td>\n      <td>0.336426</td>\n      <td>0.317139</td>\n      <td>...</td>\n      <td>0.0</td>\n      <td>0.0</td>\n      <td>0.0</td>\n      <td>0.0</td>\n      <td>0.0</td>\n      <td>0.0</td>\n      <td>0.0</td>\n      <td>0.0</td>\n      <td>0.0</td>\n      <td>0.0</td>\n    </tr>\n    <tr>\n      <th>99997</th>\n      <td>0.925781</td>\n      <td>0.587402</td>\n      <td>0.633301</td>\n      <td>0.632324</td>\n      <td>0.639160</td>\n      <td>0.614258</td>\n      <td>0.599121</td>\n      <td>0.517578</td>\n      <td>0.403809</td>\n      <td>0.253174</td>\n      <td>...</td>\n      <td>0.0</td>\n      <td>0.0</td>\n      <td>0.0</td>\n      <td>0.0</td>\n      <td>0.0</td>\n      <td>0.0</td>\n      <td>0.0</td>\n      <td>0.0</td>\n      <td>0.0</td>\n      <td>0.0</td>\n    </tr>\n    <tr>\n      <th>99998</th>\n      <td>1.000000</td>\n      <td>0.994629</td>\n      <td>0.829590</td>\n      <td>0.458252</td>\n      <td>0.264160</td>\n      <td>0.240234</td>\n      <td>0.213745</td>\n      <td>0.189331</td>\n      <td>0.203857</td>\n      <td>0.210815</td>\n      <td>...</td>\n      <td>0.0</td>\n      <td>0.0</td>\n      <td>0.0</td>\n      <td>0.0</td>\n      <td>0.0</td>\n      <td>0.0</td>\n      <td>0.0</td>\n      <td>0.0</td>\n      <td>0.0</td>\n      <td>0.0</td>\n    </tr>\n    <tr>\n      <th>99999</th>\n      <td>0.925781</td>\n      <td>0.916504</td>\n      <td>0.404297</td>\n      <td>0.000000</td>\n      <td>0.262939</td>\n      <td>0.385498</td>\n      <td>0.361084</td>\n      <td>0.332764</td>\n      <td>0.339844</td>\n      <td>0.350586</td>\n      <td>...</td>\n      <td>0.0</td>\n      <td>0.0</td>\n      <td>0.0</td>\n      <td>0.0</td>\n      <td>0.0</td>\n      <td>0.0</td>\n      <td>0.0</td>\n      <td>0.0</td>\n      <td>0.0</td>\n      <td>0.0</td>\n    </tr>\n  </tbody>\n</table>\n<p>100000 rows × 205 columns</p>\n</div>"
     },
     "metadata": {},
     "execution_count": 8
    }
   ],
   "source": [
    "# 去掉id和label，用于模型拟合\n",
    "x_train=train_data.drop(['id','label'], axis=1)\n",
    "y_train=train_data['label']\n",
    "x_test=testA_data.drop(['id'], axis=1)\n",
    "\n",
    "x_train"
   ]
  },
  {
   "source": [
    "#### 模型拟合"
   ],
   "cell_type": "markdown",
   "metadata": {}
  },
  {
   "cell_type": "code",
   "execution_count": 9,
   "metadata": {},
   "outputs": [],
   "source": [
    "feature_train, feature_test, label_train, label_test = train_test_split(x_train, y_train, test_size = 0.98, random_state = 10)"
   ]
  },
  {
   "cell_type": "code",
   "execution_count": 14,
   "metadata": {},
   "outputs": [
    {
     "output_type": "stream",
     "name": "stdout",
     "text": [
      "层数>1 精确度均值: 0.650 精确度方差: 0.059\n",
      "层数>2 精确度均值: 0.767 精确度方差: 0.047\n",
      "层数>3 精确度均值: 0.873 精确度方差: 0.027\n",
      "层数>4 精确度均值: 0.926 精确度方差: 0.018\n",
      "层数>5 精确度均值: 0.938 精确度方差: 0.013\n",
      "层数>6 精确度均值: 0.947 精确度方差: 0.010\n",
      "层数>7 精确度均值: 0.947 精确度方差: 0.013\n",
      "层数>8 精确度均值: 0.951 精确度方差: 0.013\n",
      "层数>9 精确度均值: 0.951 精确度方差: 0.014\n",
      "层数>10 精确度均值: 0.950 精确度方差: 0.012\n"
     ]
    }
   ],
   "source": [
    "# adaboost + decision tree\n",
    "def get_model():\n",
    "    \"\"\"\n",
    "    产生弱分类器\n",
    "    \"\"\"\n",
    "    models=dict()\n",
    "    for i in range(1,11):\n",
    "        models[str(i)]=AdaBoostClassifier(base_estimator=DecisionTreeClassifier(max_depth=i))\n",
    "    return models\n",
    "\n",
    "def evaluate_model(model):\n",
    "    \"\"\"\n",
    "    使用交叉检验评估模型\n",
    "    \"\"\"\n",
    "    cv=RepeatedStratifiedKFold(n_splits=10,n_repeats=3,random_state=1)\n",
    "    scores=cross_val_score(model,feature_train,label_train,scoring='accuracy',cv=cv, n_jobs=-1, error_score='raise')\n",
    "    return scores\n",
    "\n",
    "\n",
    "models=get_model()\n",
    "results,names=[],[]\n",
    "for name,model in models.items():\n",
    "    scores=evaluate_model(model)\n",
    "    results.append(scores)\n",
    "    names.append(name)\n",
    "    print('层数>%s 精确度均值: %.3f 精确度方差: %.3f' % (name, np.mean(scores), np.std(scores)))"
   ]
  },
  {
   "cell_type": "code",
   "execution_count": 16,
   "metadata": {},
   "outputs": [
    {
     "output_type": "stream",
     "name": "stdout",
     "text": [
      "准确率均值: 0.648 方差：0.002\n"
     ]
    }
   ],
   "source": [
    "# adaboost + svm\n",
    "svm=SVC(probability=True,kernel='linear')\n",
    "model=AdaBoostClassifier(base_estimator=svm)\n",
    "cv=RepeatedStratifiedKFold(n_splits=10, n_repeats=3, random_state=1)\n",
    "n_scores=cross_val_score(model, feature_train, label_train, scoring='accuracy', cv=cv, n_jobs=-1, error_score='raise')\n",
    "print('准确率均值: %.3f 方差：%.3f' % (np.mean(n_scores), np.std(n_scores)))"
   ]
  },
  {
   "cell_type": "code",
   "execution_count": 20,
   "metadata": {},
   "outputs": [
    {
     "output_type": "execute_result",
     "data": {
      "text/plain": [
       "array([0.65 , 0.65 , 0.65 , 0.65 , 0.65 , 0.65 , 0.65 , 0.645, 0.645,\n",
       "       0.645, 0.65 , 0.65 , 0.65 , 0.65 , 0.65 , 0.65 , 0.65 , 0.645,\n",
       "       0.645, 0.645, 0.65 , 0.65 , 0.65 , 0.65 , 0.65 , 0.65 , 0.65 ,\n",
       "       0.645, 0.645, 0.645])"
      ]
     },
     "metadata": {},
     "execution_count": 20
    }
   ],
   "source": [
    "# 保存一下n_scores的值...不用下次再跑四十多分钟了\n",
    "n_scores_copy=np.array([0.65 , 0.65 , 0.65 , 0.65 , 0.65 , 0.65 , 0.65 , 0.645, 0.645, 0.645, 0.65 , 0.65 , 0.65 , 0.65 , 0.65 , 0.65 , 0.65 , 0.645, 0.645, 0.645, 0.65 , 0.65 , 0.65 , 0.65 , 0.65 , 0.65 , 0.65 ,0.645, 0.645, 0.645])\n",
    "n_scores_copy"
   ]
  },
  {
   "cell_type": "code",
   "execution_count": 13,
   "metadata": {},
   "outputs": [
    {
     "output_type": "stream",
     "name": "stdout",
     "text": [
      "准确率均值: 0.945 方差：0.016\n"
     ]
    }
   ],
   "source": [
    "# 随机森林\n",
    "rfc_model=RandomForestClassifier()\n",
    "rfc_scores=cross_val_score(rfc_model,feature_train,label_train,cv=10)\n",
    "print('准确率均值: %.3f 方差：%.3f' % (np.mean(rfc_scores), np.std(rfc_scores)))"
   ]
  },
  {
   "source": [
    "#### 最终选择使用随机森林进行模型拟合"
   ],
   "cell_type": "markdown",
   "metadata": {}
  },
  {
   "cell_type": "code",
   "execution_count": 15,
   "metadata": {},
   "outputs": [
    {
     "output_type": "stream",
     "name": "stdout",
     "text": [
      "0.9484999999999999 71\n"
     ]
    },
    {
     "output_type": "display_data",
     "data": {
      "text/plain": "<Figure size 1440x360 with 1 Axes>",
      "image/svg+xml": "<?xml version=\"1.0\" encoding=\"utf-8\" standalone=\"no\"?>\r\n<!DOCTYPE svg PUBLIC \"-//W3C//DTD SVG 1.1//EN\"\r\n  \"http://www.w3.org/Graphics/SVG/1.1/DTD/svg11.dtd\">\r\n<!-- Created with matplotlib (https://matplotlib.org/) -->\r\n<svg height=\"302.878125pt\" version=\"1.1\" viewBox=\"0 0 1166.539519 302.878125\" width=\"1166.539519pt\" xmlns=\"http://www.w3.org/2000/svg\" xmlns:xlink=\"http://www.w3.org/1999/xlink\">\r\n <metadata>\r\n  <rdf:RDF xmlns:cc=\"http://creativecommons.org/ns#\" xmlns:dc=\"http://purl.org/dc/elements/1.1/\" xmlns:rdf=\"http://www.w3.org/1999/02/22-rdf-syntax-ns#\">\r\n   <cc:Work>\r\n    <dc:type rdf:resource=\"http://purl.org/dc/dcmitype/StillImage\"/>\r\n    <dc:date>2021-05-25T23:09:50.335409</dc:date>\r\n    <dc:format>image/svg+xml</dc:format>\r\n    <dc:creator>\r\n     <cc:Agent>\r\n      <dc:title>Matplotlib v3.3.2, https://matplotlib.org/</dc:title>\r\n     </cc:Agent>\r\n    </dc:creator>\r\n   </cc:Work>\r\n  </rdf:RDF>\r\n </metadata>\r\n <defs>\r\n  <style type=\"text/css\">*{stroke-linecap:butt;stroke-linejoin:round;}</style>\r\n </defs>\r\n <g id=\"figure_1\">\r\n  <g id=\"patch_1\">\r\n   <path d=\"M 0 302.878125 \r\nL 1166.539519 302.878125 \r\nL 1166.539519 0 \r\nL 0 0 \r\nz\r\n\" style=\"fill:none;\"/>\r\n  </g>\r\n  <g id=\"axes_1\">\r\n   <g id=\"patch_2\">\r\n    <path d=\"M 36.465625 279 \r\nL 1152.465625 279 \r\nL 1152.465625 7.2 \r\nL 36.465625 7.2 \r\nz\r\n\" style=\"fill:#ffffff;\"/>\r\n   </g>\r\n   <g id=\"matplotlib.axis_1\">\r\n    <g id=\"xtick_1\">\r\n     <g id=\"line2d_1\">\r\n      <defs>\r\n       <path d=\"M 0 0 \r\nL 0 3.5 \r\n\" id=\"maaec11292f\" style=\"stroke:#000000;stroke-width:0.8;\"/>\r\n      </defs>\r\n      <g>\r\n       <use style=\"stroke:#000000;stroke-width:0.8;\" x=\"81.853185\" xlink:href=\"#maaec11292f\" y=\"279\"/>\r\n      </g>\r\n     </g>\r\n     <g id=\"text_1\">\r\n      <!-- 0 -->\r\n      <g transform=\"translate(78.671935 293.598437)scale(0.1 -0.1)\">\r\n       <defs>\r\n        <path d=\"M 31.78125 66.40625 \r\nQ 24.171875 66.40625 20.328125 58.90625 \r\nQ 16.5 51.421875 16.5 36.375 \r\nQ 16.5 21.390625 20.328125 13.890625 \r\nQ 24.171875 6.390625 31.78125 6.390625 \r\nQ 39.453125 6.390625 43.28125 13.890625 \r\nQ 47.125 21.390625 47.125 36.375 \r\nQ 47.125 51.421875 43.28125 58.90625 \r\nQ 39.453125 66.40625 31.78125 66.40625 \r\nz\r\nM 31.78125 74.21875 \r\nQ 44.046875 74.21875 50.515625 64.515625 \r\nQ 56.984375 54.828125 56.984375 36.375 \r\nQ 56.984375 17.96875 50.515625 8.265625 \r\nQ 44.046875 -1.421875 31.78125 -1.421875 \r\nQ 19.53125 -1.421875 13.0625 8.265625 \r\nQ 6.59375 17.96875 6.59375 36.375 \r\nQ 6.59375 54.828125 13.0625 64.515625 \r\nQ 19.53125 74.21875 31.78125 74.21875 \r\nz\r\n\" id=\"DejaVuSans-48\"/>\r\n       </defs>\r\n       <use xlink:href=\"#DejaVuSans-48\"/>\r\n      </g>\r\n     </g>\r\n    </g>\r\n    <g id=\"xtick_2\">\r\n     <g id=\"line2d_2\">\r\n      <g>\r\n       <use style=\"stroke:#000000;stroke-width:0.8;\" x=\"215.346008\" xlink:href=\"#maaec11292f\" y=\"279\"/>\r\n      </g>\r\n     </g>\r\n     <g id=\"text_2\">\r\n      <!-- 25 -->\r\n      <g transform=\"translate(208.983508 293.598437)scale(0.1 -0.1)\">\r\n       <defs>\r\n        <path d=\"M 19.1875 8.296875 \r\nL 53.609375 8.296875 \r\nL 53.609375 0 \r\nL 7.328125 0 \r\nL 7.328125 8.296875 \r\nQ 12.9375 14.109375 22.625 23.890625 \r\nQ 32.328125 33.6875 34.8125 36.53125 \r\nQ 39.546875 41.84375 41.421875 45.53125 \r\nQ 43.3125 49.21875 43.3125 52.78125 \r\nQ 43.3125 58.59375 39.234375 62.25 \r\nQ 35.15625 65.921875 28.609375 65.921875 \r\nQ 23.96875 65.921875 18.8125 64.3125 \r\nQ 13.671875 62.703125 7.8125 59.421875 \r\nL 7.8125 69.390625 \r\nQ 13.765625 71.78125 18.9375 73 \r\nQ 24.125 74.21875 28.421875 74.21875 \r\nQ 39.75 74.21875 46.484375 68.546875 \r\nQ 53.21875 62.890625 53.21875 53.421875 \r\nQ 53.21875 48.921875 51.53125 44.890625 \r\nQ 49.859375 40.875 45.40625 35.40625 \r\nQ 44.1875 33.984375 37.640625 27.21875 \r\nQ 31.109375 20.453125 19.1875 8.296875 \r\nz\r\n\" id=\"DejaVuSans-50\"/>\r\n        <path d=\"M 10.796875 72.90625 \r\nL 49.515625 72.90625 \r\nL 49.515625 64.59375 \r\nL 19.828125 64.59375 \r\nL 19.828125 46.734375 \r\nQ 21.96875 47.46875 24.109375 47.828125 \r\nQ 26.265625 48.1875 28.421875 48.1875 \r\nQ 40.625 48.1875 47.75 41.5 \r\nQ 54.890625 34.8125 54.890625 23.390625 \r\nQ 54.890625 11.625 47.5625 5.09375 \r\nQ 40.234375 -1.421875 26.90625 -1.421875 \r\nQ 22.3125 -1.421875 17.546875 -0.640625 \r\nQ 12.796875 0.140625 7.71875 1.703125 \r\nL 7.71875 11.625 \r\nQ 12.109375 9.234375 16.796875 8.0625 \r\nQ 21.484375 6.890625 26.703125 6.890625 \r\nQ 35.15625 6.890625 40.078125 11.328125 \r\nQ 45.015625 15.765625 45.015625 23.390625 \r\nQ 45.015625 31 40.078125 35.4375 \r\nQ 35.15625 39.890625 26.703125 39.890625 \r\nQ 22.75 39.890625 18.8125 39.015625 \r\nQ 14.890625 38.140625 10.796875 36.28125 \r\nz\r\n\" id=\"DejaVuSans-53\"/>\r\n       </defs>\r\n       <use xlink:href=\"#DejaVuSans-50\"/>\r\n       <use x=\"63.623047\" xlink:href=\"#DejaVuSans-53\"/>\r\n      </g>\r\n     </g>\r\n    </g>\r\n    <g id=\"xtick_3\">\r\n     <g id=\"line2d_3\">\r\n      <g>\r\n       <use style=\"stroke:#000000;stroke-width:0.8;\" x=\"348.838831\" xlink:href=\"#maaec11292f\" y=\"279\"/>\r\n      </g>\r\n     </g>\r\n     <g id=\"text_3\">\r\n      <!-- 50 -->\r\n      <g transform=\"translate(342.476331 293.598437)scale(0.1 -0.1)\">\r\n       <use xlink:href=\"#DejaVuSans-53\"/>\r\n       <use x=\"63.623047\" xlink:href=\"#DejaVuSans-48\"/>\r\n      </g>\r\n     </g>\r\n    </g>\r\n    <g id=\"xtick_4\">\r\n     <g id=\"line2d_4\">\r\n      <g>\r\n       <use style=\"stroke:#000000;stroke-width:0.8;\" x=\"482.331654\" xlink:href=\"#maaec11292f\" y=\"279\"/>\r\n      </g>\r\n     </g>\r\n     <g id=\"text_4\">\r\n      <!-- 75 -->\r\n      <g transform=\"translate(475.969154 293.598437)scale(0.1 -0.1)\">\r\n       <defs>\r\n        <path d=\"M 8.203125 72.90625 \r\nL 55.078125 72.90625 \r\nL 55.078125 68.703125 \r\nL 28.609375 0 \r\nL 18.3125 0 \r\nL 43.21875 64.59375 \r\nL 8.203125 64.59375 \r\nz\r\n\" id=\"DejaVuSans-55\"/>\r\n       </defs>\r\n       <use xlink:href=\"#DejaVuSans-55\"/>\r\n       <use x=\"63.623047\" xlink:href=\"#DejaVuSans-53\"/>\r\n      </g>\r\n     </g>\r\n    </g>\r\n    <g id=\"xtick_5\">\r\n     <g id=\"line2d_5\">\r\n      <g>\r\n       <use style=\"stroke:#000000;stroke-width:0.8;\" x=\"615.824477\" xlink:href=\"#maaec11292f\" y=\"279\"/>\r\n      </g>\r\n     </g>\r\n     <g id=\"text_5\">\r\n      <!-- 100 -->\r\n      <g transform=\"translate(606.280727 293.598437)scale(0.1 -0.1)\">\r\n       <defs>\r\n        <path d=\"M 12.40625 8.296875 \r\nL 28.515625 8.296875 \r\nL 28.515625 63.921875 \r\nL 10.984375 60.40625 \r\nL 10.984375 69.390625 \r\nL 28.421875 72.90625 \r\nL 38.28125 72.90625 \r\nL 38.28125 8.296875 \r\nL 54.390625 8.296875 \r\nL 54.390625 0 \r\nL 12.40625 0 \r\nz\r\n\" id=\"DejaVuSans-49\"/>\r\n       </defs>\r\n       <use xlink:href=\"#DejaVuSans-49\"/>\r\n       <use x=\"63.623047\" xlink:href=\"#DejaVuSans-48\"/>\r\n       <use x=\"127.246094\" xlink:href=\"#DejaVuSans-48\"/>\r\n      </g>\r\n     </g>\r\n    </g>\r\n    <g id=\"xtick_6\">\r\n     <g id=\"line2d_6\">\r\n      <g>\r\n       <use style=\"stroke:#000000;stroke-width:0.8;\" x=\"749.3173\" xlink:href=\"#maaec11292f\" y=\"279\"/>\r\n      </g>\r\n     </g>\r\n     <g id=\"text_6\">\r\n      <!-- 125 -->\r\n      <g transform=\"translate(739.77355 293.598437)scale(0.1 -0.1)\">\r\n       <use xlink:href=\"#DejaVuSans-49\"/>\r\n       <use x=\"63.623047\" xlink:href=\"#DejaVuSans-50\"/>\r\n       <use x=\"127.246094\" xlink:href=\"#DejaVuSans-53\"/>\r\n      </g>\r\n     </g>\r\n    </g>\r\n    <g id=\"xtick_7\">\r\n     <g id=\"line2d_7\">\r\n      <g>\r\n       <use style=\"stroke:#000000;stroke-width:0.8;\" x=\"882.810123\" xlink:href=\"#maaec11292f\" y=\"279\"/>\r\n      </g>\r\n     </g>\r\n     <g id=\"text_7\">\r\n      <!-- 150 -->\r\n      <g transform=\"translate(873.266373 293.598437)scale(0.1 -0.1)\">\r\n       <use xlink:href=\"#DejaVuSans-49\"/>\r\n       <use x=\"63.623047\" xlink:href=\"#DejaVuSans-53\"/>\r\n       <use x=\"127.246094\" xlink:href=\"#DejaVuSans-48\"/>\r\n      </g>\r\n     </g>\r\n    </g>\r\n    <g id=\"xtick_8\">\r\n     <g id=\"line2d_8\">\r\n      <g>\r\n       <use style=\"stroke:#000000;stroke-width:0.8;\" x=\"1016.302946\" xlink:href=\"#maaec11292f\" y=\"279\"/>\r\n      </g>\r\n     </g>\r\n     <g id=\"text_8\">\r\n      <!-- 175 -->\r\n      <g transform=\"translate(1006.759196 293.598437)scale(0.1 -0.1)\">\r\n       <use xlink:href=\"#DejaVuSans-49\"/>\r\n       <use x=\"63.623047\" xlink:href=\"#DejaVuSans-55\"/>\r\n       <use x=\"127.246094\" xlink:href=\"#DejaVuSans-53\"/>\r\n      </g>\r\n     </g>\r\n    </g>\r\n    <g id=\"xtick_9\">\r\n     <g id=\"line2d_9\">\r\n      <g>\r\n       <use style=\"stroke:#000000;stroke-width:0.8;\" x=\"1149.795769\" xlink:href=\"#maaec11292f\" y=\"279\"/>\r\n      </g>\r\n     </g>\r\n     <g id=\"text_9\">\r\n      <!-- 200 -->\r\n      <g transform=\"translate(1140.252019 293.598437)scale(0.1 -0.1)\">\r\n       <use xlink:href=\"#DejaVuSans-50\"/>\r\n       <use x=\"63.623047\" xlink:href=\"#DejaVuSans-48\"/>\r\n       <use x=\"127.246094\" xlink:href=\"#DejaVuSans-48\"/>\r\n      </g>\r\n     </g>\r\n    </g>\r\n   </g>\r\n   <g id=\"matplotlib.axis_2\">\r\n    <g id=\"ytick_1\">\r\n     <g id=\"line2d_10\">\r\n      <defs>\r\n       <path d=\"M 0 0 \r\nL -3.5 0 \r\n\" id=\"me507a1a20e\" style=\"stroke:#000000;stroke-width:0.8;\"/>\r\n      </defs>\r\n      <g>\r\n       <use style=\"stroke:#000000;stroke-width:0.8;\" x=\"36.465625\" xlink:href=\"#me507a1a20e\" y=\"269.469351\"/>\r\n      </g>\r\n     </g>\r\n     <g id=\"text_10\">\r\n      <!-- 0.86 -->\r\n      <g transform=\"translate(7.2 273.268569)scale(0.1 -0.1)\">\r\n       <defs>\r\n        <path d=\"M 10.6875 12.40625 \r\nL 21 12.40625 \r\nL 21 0 \r\nL 10.6875 0 \r\nz\r\n\" id=\"DejaVuSans-46\"/>\r\n        <path d=\"M 31.78125 34.625 \r\nQ 24.75 34.625 20.71875 30.859375 \r\nQ 16.703125 27.09375 16.703125 20.515625 \r\nQ 16.703125 13.921875 20.71875 10.15625 \r\nQ 24.75 6.390625 31.78125 6.390625 \r\nQ 38.8125 6.390625 42.859375 10.171875 \r\nQ 46.921875 13.96875 46.921875 20.515625 \r\nQ 46.921875 27.09375 42.890625 30.859375 \r\nQ 38.875 34.625 31.78125 34.625 \r\nz\r\nM 21.921875 38.8125 \r\nQ 15.578125 40.375 12.03125 44.71875 \r\nQ 8.5 49.078125 8.5 55.328125 \r\nQ 8.5 64.0625 14.71875 69.140625 \r\nQ 20.953125 74.21875 31.78125 74.21875 \r\nQ 42.671875 74.21875 48.875 69.140625 \r\nQ 55.078125 64.0625 55.078125 55.328125 \r\nQ 55.078125 49.078125 51.53125 44.71875 \r\nQ 48 40.375 41.703125 38.8125 \r\nQ 48.828125 37.15625 52.796875 32.3125 \r\nQ 56.78125 27.484375 56.78125 20.515625 \r\nQ 56.78125 9.90625 50.3125 4.234375 \r\nQ 43.84375 -1.421875 31.78125 -1.421875 \r\nQ 19.734375 -1.421875 13.25 4.234375 \r\nQ 6.78125 9.90625 6.78125 20.515625 \r\nQ 6.78125 27.484375 10.78125 32.3125 \r\nQ 14.796875 37.15625 21.921875 38.8125 \r\nz\r\nM 18.3125 54.390625 \r\nQ 18.3125 48.734375 21.84375 45.5625 \r\nQ 25.390625 42.390625 31.78125 42.390625 \r\nQ 38.140625 42.390625 41.71875 45.5625 \r\nQ 45.3125 48.734375 45.3125 54.390625 \r\nQ 45.3125 60.0625 41.71875 63.234375 \r\nQ 38.140625 66.40625 31.78125 66.40625 \r\nQ 25.390625 66.40625 21.84375 63.234375 \r\nQ 18.3125 60.0625 18.3125 54.390625 \r\nz\r\n\" id=\"DejaVuSans-56\"/>\r\n        <path d=\"M 33.015625 40.375 \r\nQ 26.375 40.375 22.484375 35.828125 \r\nQ 18.609375 31.296875 18.609375 23.390625 \r\nQ 18.609375 15.53125 22.484375 10.953125 \r\nQ 26.375 6.390625 33.015625 6.390625 \r\nQ 39.65625 6.390625 43.53125 10.953125 \r\nQ 47.40625 15.53125 47.40625 23.390625 \r\nQ 47.40625 31.296875 43.53125 35.828125 \r\nQ 39.65625 40.375 33.015625 40.375 \r\nz\r\nM 52.59375 71.296875 \r\nL 52.59375 62.3125 \r\nQ 48.875 64.0625 45.09375 64.984375 \r\nQ 41.3125 65.921875 37.59375 65.921875 \r\nQ 27.828125 65.921875 22.671875 59.328125 \r\nQ 17.53125 52.734375 16.796875 39.40625 \r\nQ 19.671875 43.65625 24.015625 45.921875 \r\nQ 28.375 48.1875 33.59375 48.1875 \r\nQ 44.578125 48.1875 50.953125 41.515625 \r\nQ 57.328125 34.859375 57.328125 23.390625 \r\nQ 57.328125 12.15625 50.6875 5.359375 \r\nQ 44.046875 -1.421875 33.015625 -1.421875 \r\nQ 20.359375 -1.421875 13.671875 8.265625 \r\nQ 6.984375 17.96875 6.984375 36.375 \r\nQ 6.984375 53.65625 15.1875 63.9375 \r\nQ 23.390625 74.21875 37.203125 74.21875 \r\nQ 40.921875 74.21875 44.703125 73.484375 \r\nQ 48.484375 72.75 52.59375 71.296875 \r\nz\r\n\" id=\"DejaVuSans-54\"/>\r\n       </defs>\r\n       <use xlink:href=\"#DejaVuSans-48\"/>\r\n       <use x=\"63.623047\" xlink:href=\"#DejaVuSans-46\"/>\r\n       <use x=\"95.410156\" xlink:href=\"#DejaVuSans-56\"/>\r\n       <use x=\"159.033203\" xlink:href=\"#DejaVuSans-54\"/>\r\n      </g>\r\n     </g>\r\n    </g>\r\n    <g id=\"ytick_2\">\r\n     <g id=\"line2d_11\">\r\n      <g>\r\n       <use style=\"stroke:#000000;stroke-width:0.8;\" x=\"36.465625\" xlink:href=\"#me507a1a20e\" y=\"212.991429\"/>\r\n      </g>\r\n     </g>\r\n     <g id=\"text_11\">\r\n      <!-- 0.88 -->\r\n      <g transform=\"translate(7.2 216.790647)scale(0.1 -0.1)\">\r\n       <use xlink:href=\"#DejaVuSans-48\"/>\r\n       <use x=\"63.623047\" xlink:href=\"#DejaVuSans-46\"/>\r\n       <use x=\"95.410156\" xlink:href=\"#DejaVuSans-56\"/>\r\n       <use x=\"159.033203\" xlink:href=\"#DejaVuSans-56\"/>\r\n      </g>\r\n     </g>\r\n    </g>\r\n    <g id=\"ytick_3\">\r\n     <g id=\"line2d_12\">\r\n      <g>\r\n       <use style=\"stroke:#000000;stroke-width:0.8;\" x=\"36.465625\" xlink:href=\"#me507a1a20e\" y=\"156.513506\"/>\r\n      </g>\r\n     </g>\r\n     <g id=\"text_12\">\r\n      <!-- 0.90 -->\r\n      <g transform=\"translate(7.2 160.312725)scale(0.1 -0.1)\">\r\n       <defs>\r\n        <path d=\"M 10.984375 1.515625 \r\nL 10.984375 10.5 \r\nQ 14.703125 8.734375 18.5 7.8125 \r\nQ 22.3125 6.890625 25.984375 6.890625 \r\nQ 35.75 6.890625 40.890625 13.453125 \r\nQ 46.046875 20.015625 46.78125 33.40625 \r\nQ 43.953125 29.203125 39.59375 26.953125 \r\nQ 35.25 24.703125 29.984375 24.703125 \r\nQ 19.046875 24.703125 12.671875 31.3125 \r\nQ 6.296875 37.9375 6.296875 49.421875 \r\nQ 6.296875 60.640625 12.9375 67.421875 \r\nQ 19.578125 74.21875 30.609375 74.21875 \r\nQ 43.265625 74.21875 49.921875 64.515625 \r\nQ 56.59375 54.828125 56.59375 36.375 \r\nQ 56.59375 19.140625 48.40625 8.859375 \r\nQ 40.234375 -1.421875 26.421875 -1.421875 \r\nQ 22.703125 -1.421875 18.890625 -0.6875 \r\nQ 15.09375 0.046875 10.984375 1.515625 \r\nz\r\nM 30.609375 32.421875 \r\nQ 37.25 32.421875 41.125 36.953125 \r\nQ 45.015625 41.5 45.015625 49.421875 \r\nQ 45.015625 57.28125 41.125 61.84375 \r\nQ 37.25 66.40625 30.609375 66.40625 \r\nQ 23.96875 66.40625 20.09375 61.84375 \r\nQ 16.21875 57.28125 16.21875 49.421875 \r\nQ 16.21875 41.5 20.09375 36.953125 \r\nQ 23.96875 32.421875 30.609375 32.421875 \r\nz\r\n\" id=\"DejaVuSans-57\"/>\r\n       </defs>\r\n       <use xlink:href=\"#DejaVuSans-48\"/>\r\n       <use x=\"63.623047\" xlink:href=\"#DejaVuSans-46\"/>\r\n       <use x=\"95.410156\" xlink:href=\"#DejaVuSans-57\"/>\r\n       <use x=\"159.033203\" xlink:href=\"#DejaVuSans-48\"/>\r\n      </g>\r\n     </g>\r\n    </g>\r\n    <g id=\"ytick_4\">\r\n     <g id=\"line2d_13\">\r\n      <g>\r\n       <use style=\"stroke:#000000;stroke-width:0.8;\" x=\"36.465625\" xlink:href=\"#me507a1a20e\" y=\"100.035584\"/>\r\n      </g>\r\n     </g>\r\n     <g id=\"text_13\">\r\n      <!-- 0.92 -->\r\n      <g transform=\"translate(7.2 103.834803)scale(0.1 -0.1)\">\r\n       <use xlink:href=\"#DejaVuSans-48\"/>\r\n       <use x=\"63.623047\" xlink:href=\"#DejaVuSans-46\"/>\r\n       <use x=\"95.410156\" xlink:href=\"#DejaVuSans-57\"/>\r\n       <use x=\"159.033203\" xlink:href=\"#DejaVuSans-50\"/>\r\n      </g>\r\n     </g>\r\n    </g>\r\n    <g id=\"ytick_5\">\r\n     <g id=\"line2d_14\">\r\n      <g>\r\n       <use style=\"stroke:#000000;stroke-width:0.8;\" x=\"36.465625\" xlink:href=\"#me507a1a20e\" y=\"43.557662\"/>\r\n      </g>\r\n     </g>\r\n     <g id=\"text_14\">\r\n      <!-- 0.94 -->\r\n      <g transform=\"translate(7.2 47.356881)scale(0.1 -0.1)\">\r\n       <defs>\r\n        <path d=\"M 37.796875 64.3125 \r\nL 12.890625 25.390625 \r\nL 37.796875 25.390625 \r\nz\r\nM 35.203125 72.90625 \r\nL 47.609375 72.90625 \r\nL 47.609375 25.390625 \r\nL 58.015625 25.390625 \r\nL 58.015625 17.1875 \r\nL 47.609375 17.1875 \r\nL 47.609375 0 \r\nL 37.796875 0 \r\nL 37.796875 17.1875 \r\nL 4.890625 17.1875 \r\nL 4.890625 26.703125 \r\nz\r\n\" id=\"DejaVuSans-52\"/>\r\n       </defs>\r\n       <use xlink:href=\"#DejaVuSans-48\"/>\r\n       <use x=\"63.623047\" xlink:href=\"#DejaVuSans-46\"/>\r\n       <use x=\"95.410156\" xlink:href=\"#DejaVuSans-57\"/>\r\n       <use x=\"159.033203\" xlink:href=\"#DejaVuSans-52\"/>\r\n      </g>\r\n     </g>\r\n    </g>\r\n   </g>\r\n   <g id=\"line2d_15\">\r\n    <path clip-path=\"url(#p147eba4a78)\" d=\"M 87.192898 266.645455 \r\nL 140.590027 59.089091 \r\nL 193.987156 43.557662 \r\nL 247.384285 32.262078 \r\nL 300.781414 28.026234 \r\nL 354.178544 26.614286 \r\nL 407.575673 25.202338 \r\nL 460.972802 19.554545 \r\nL 514.369931 22.378442 \r\nL 567.76706 22.378442 \r\nL 621.16419 28.026234 \r\nL 674.561319 28.026234 \r\nL 727.958448 29.438182 \r\nL 781.355577 29.438182 \r\nL 834.752706 25.202338 \r\nL 888.149836 23.79039 \r\nL 941.546965 23.79039 \r\nL 994.944094 23.79039 \r\nL 1048.341223 25.202338 \r\nL 1101.738352 25.202338 \r\n\" style=\"fill:none;stroke:#1f77b4;stroke-linecap:square;stroke-width:1.5;\"/>\r\n   </g>\r\n   <g id=\"patch_3\">\r\n    <path d=\"M 36.465625 279 \r\nL 36.465625 7.2 \r\n\" style=\"fill:none;stroke:#000000;stroke-linecap:square;stroke-linejoin:miter;stroke-width:0.8;\"/>\r\n   </g>\r\n   <g id=\"patch_4\">\r\n    <path d=\"M 1152.465625 279 \r\nL 1152.465625 7.2 \r\n\" style=\"fill:none;stroke:#000000;stroke-linecap:square;stroke-linejoin:miter;stroke-width:0.8;\"/>\r\n   </g>\r\n   <g id=\"patch_5\">\r\n    <path d=\"M 36.465625 279 \r\nL 1152.465625 279 \r\n\" style=\"fill:none;stroke:#000000;stroke-linecap:square;stroke-linejoin:miter;stroke-width:0.8;\"/>\r\n   </g>\r\n   <g id=\"patch_6\">\r\n    <path d=\"M 36.465625 7.2 \r\nL 1152.465625 7.2 \r\n\" style=\"fill:none;stroke:#000000;stroke-linecap:square;stroke-linejoin:miter;stroke-width:0.8;\"/>\r\n   </g>\r\n  </g>\r\n </g>\r\n <defs>\r\n  <clipPath id=\"p147eba4a78\">\r\n   <rect height=\"271.8\" width=\"1116\" x=\"36.465625\" y=\"7.2\"/>\r\n  </clipPath>\r\n </defs>\r\n</svg>\r\n",
      "image/png": "[encoded data removed]"
     },
     "metadata": {
      "needs_background": "light"
     }
    }
   ],
   "source": [
    "# 以10为分割点，用交叉验证来调整n_estimator\n",
    "score1=[]\n",
    "for i in range(0,200,10):\n",
    "    rfc=RandomForestClassifier(n_estimators=i+1,n_jobs=-1,random_state=90)\n",
    "    score=cross_val_score(rfc,feature_train,label_train,cv=10).mean()\n",
    "    score1.append(score)\n",
    "print(max(score1),(score1.index(max(score1))*10)+1)\n",
    "plt.figure(figsize=[20,5])\n",
    "plt.plot(range(1,201,10),score1)\n",
    "plt.show()"
   ]
  },
  {
   "cell_type": "code",
   "execution_count": 8,
   "metadata": {},
   "outputs": [
    {
     "output_type": "stream",
     "name": "stdout",
     "text": [
      "0.9485000000000001 72\n"
     ]
    },
    {
     "output_type": "display_data",
     "data": {
      "text/plain": "<Figure size 720x360 with 1 Axes>",
      "image/svg+xml": "<?xml version=\"1.0\" encoding=\"utf-8\" standalone=\"no\"?>\r\n<!DOCTYPE svg PUBLIC \"-//W3C//DTD SVG 1.1//EN\"\r\n  \"http://www.w3.org/Graphics/SVG/1.1/DTD/svg11.dtd\">\r\n<!-- Created with matplotlib (https://matplotlib.org/) -->\r\n<svg height=\"302.878125pt\" version=\"1.1\" viewBox=\"0 0 614.390625 302.878125\" width=\"614.390625pt\" xmlns=\"http://www.w3.org/2000/svg\" xmlns:xlink=\"http://www.w3.org/1999/xlink\">\r\n <metadata>\r\n  <rdf:RDF xmlns:cc=\"http://creativecommons.org/ns#\" xmlns:dc=\"http://purl.org/dc/elements/1.1/\" xmlns:rdf=\"http://www.w3.org/1999/02/22-rdf-syntax-ns#\">\r\n   <cc:Work>\r\n    <dc:type rdf:resource=\"http://purl.org/dc/dcmitype/StillImage\"/>\r\n    <dc:date>2021-05-25T23:15:36.033515</dc:date>\r\n    <dc:format>image/svg+xml</dc:format>\r\n    <dc:creator>\r\n     <cc:Agent>\r\n      <dc:title>Matplotlib v3.3.2, https://matplotlib.org/</dc:title>\r\n     </cc:Agent>\r\n    </dc:creator>\r\n   </cc:Work>\r\n  </rdf:RDF>\r\n </metadata>\r\n <defs>\r\n  <style type=\"text/css\">*{stroke-linecap:butt;stroke-linejoin:round;}</style>\r\n </defs>\r\n <g id=\"figure_1\">\r\n  <g id=\"patch_1\">\r\n   <path d=\"M 0 302.878125 \r\nL 614.390625 302.878125 \r\nL 614.390625 0 \r\nL 0 0 \r\nz\r\n\" style=\"fill:none;\"/>\r\n  </g>\r\n  <g id=\"axes_1\">\r\n   <g id=\"patch_2\">\r\n    <path d=\"M 49.190625 279 \r\nL 607.190625 279 \r\nL 607.190625 7.2 \r\nL 49.190625 7.2 \r\nz\r\n\" style=\"fill:#ffffff;\"/>\r\n   </g>\r\n   <g id=\"matplotlib.axis_1\">\r\n    <g id=\"xtick_1\">\r\n     <g id=\"line2d_1\">\r\n      <defs>\r\n       <path d=\"M 0 0 \r\nL 0 3.5 \r\n\" id=\"mb43f2b575f\" style=\"stroke:#000000;stroke-width:0.8;\"/>\r\n      </defs>\r\n      <g>\r\n       <use style=\"stroke:#000000;stroke-width:0.8;\" x=\"130.917898\" xlink:href=\"#mb43f2b575f\" y=\"279\"/>\r\n      </g>\r\n     </g>\r\n     <g id=\"text_1\">\r\n      <!-- 66 -->\r\n      <g transform=\"translate(124.555398 293.598438)scale(0.1 -0.1)\">\r\n       <defs>\r\n        <path d=\"M 33.015625 40.375 \r\nQ 26.375 40.375 22.484375 35.828125 \r\nQ 18.609375 31.296875 18.609375 23.390625 \r\nQ 18.609375 15.53125 22.484375 10.953125 \r\nQ 26.375 6.390625 33.015625 6.390625 \r\nQ 39.65625 6.390625 43.53125 10.953125 \r\nQ 47.40625 15.53125 47.40625 23.390625 \r\nQ 47.40625 31.296875 43.53125 35.828125 \r\nQ 39.65625 40.375 33.015625 40.375 \r\nz\r\nM 52.59375 71.296875 \r\nL 52.59375 62.3125 \r\nQ 48.875 64.0625 45.09375 64.984375 \r\nQ 41.3125 65.921875 37.59375 65.921875 \r\nQ 27.828125 65.921875 22.671875 59.328125 \r\nQ 17.53125 52.734375 16.796875 39.40625 \r\nQ 19.671875 43.65625 24.015625 45.921875 \r\nQ 28.375 48.1875 33.59375 48.1875 \r\nQ 44.578125 48.1875 50.953125 41.515625 \r\nQ 57.328125 34.859375 57.328125 23.390625 \r\nQ 57.328125 12.15625 50.6875 5.359375 \r\nQ 44.046875 -1.421875 33.015625 -1.421875 \r\nQ 20.359375 -1.421875 13.671875 8.265625 \r\nQ 6.984375 17.96875 6.984375 36.375 \r\nQ 6.984375 53.65625 15.1875 63.9375 \r\nQ 23.390625 74.21875 37.203125 74.21875 \r\nQ 40.921875 74.21875 44.703125 73.484375 \r\nQ 48.484375 72.75 52.59375 71.296875 \r\nz\r\n\" id=\"DejaVuSans-54\"/>\r\n       </defs>\r\n       <use xlink:href=\"#DejaVuSans-54\"/>\r\n       <use x=\"63.623047\" xlink:href=\"#DejaVuSans-54\"/>\r\n      </g>\r\n     </g>\r\n    </g>\r\n    <g id=\"xtick_2\">\r\n     <g id=\"line2d_2\">\r\n      <g>\r\n       <use style=\"stroke:#000000;stroke-width:0.8;\" x=\"243.64517\" xlink:href=\"#mb43f2b575f\" y=\"279\"/>\r\n      </g>\r\n     </g>\r\n     <g id=\"text_2\">\r\n      <!-- 68 -->\r\n      <g transform=\"translate(237.28267 293.598438)scale(0.1 -0.1)\">\r\n       <defs>\r\n        <path d=\"M 31.78125 34.625 \r\nQ 24.75 34.625 20.71875 30.859375 \r\nQ 16.703125 27.09375 16.703125 20.515625 \r\nQ 16.703125 13.921875 20.71875 10.15625 \r\nQ 24.75 6.390625 31.78125 6.390625 \r\nQ 38.8125 6.390625 42.859375 10.171875 \r\nQ 46.921875 13.96875 46.921875 20.515625 \r\nQ 46.921875 27.09375 42.890625 30.859375 \r\nQ 38.875 34.625 31.78125 34.625 \r\nz\r\nM 21.921875 38.8125 \r\nQ 15.578125 40.375 12.03125 44.71875 \r\nQ 8.5 49.078125 8.5 55.328125 \r\nQ 8.5 64.0625 14.71875 69.140625 \r\nQ 20.953125 74.21875 31.78125 74.21875 \r\nQ 42.671875 74.21875 48.875 69.140625 \r\nQ 55.078125 64.0625 55.078125 55.328125 \r\nQ 55.078125 49.078125 51.53125 44.71875 \r\nQ 48 40.375 41.703125 38.8125 \r\nQ 48.828125 37.15625 52.796875 32.3125 \r\nQ 56.78125 27.484375 56.78125 20.515625 \r\nQ 56.78125 9.90625 50.3125 4.234375 \r\nQ 43.84375 -1.421875 31.78125 -1.421875 \r\nQ 19.734375 -1.421875 13.25 4.234375 \r\nQ 6.78125 9.90625 6.78125 20.515625 \r\nQ 6.78125 27.484375 10.78125 32.3125 \r\nQ 14.796875 37.15625 21.921875 38.8125 \r\nz\r\nM 18.3125 54.390625 \r\nQ 18.3125 48.734375 21.84375 45.5625 \r\nQ 25.390625 42.390625 31.78125 42.390625 \r\nQ 38.140625 42.390625 41.71875 45.5625 \r\nQ 45.3125 48.734375 45.3125 54.390625 \r\nQ 45.3125 60.0625 41.71875 63.234375 \r\nQ 38.140625 66.40625 31.78125 66.40625 \r\nQ 25.390625 66.40625 21.84375 63.234375 \r\nQ 18.3125 60.0625 18.3125 54.390625 \r\nz\r\n\" id=\"DejaVuSans-56\"/>\r\n       </defs>\r\n       <use xlink:href=\"#DejaVuSans-54\"/>\r\n       <use x=\"63.623047\" xlink:href=\"#DejaVuSans-56\"/>\r\n      </g>\r\n     </g>\r\n    </g>\r\n    <g id=\"xtick_3\">\r\n     <g id=\"line2d_3\">\r\n      <g>\r\n       <use style=\"stroke:#000000;stroke-width:0.8;\" x=\"356.372443\" xlink:href=\"#mb43f2b575f\" y=\"279\"/>\r\n      </g>\r\n     </g>\r\n     <g id=\"text_3\">\r\n      <!-- 70 -->\r\n      <g transform=\"translate(350.009943 293.598438)scale(0.1 -0.1)\">\r\n       <defs>\r\n        <path d=\"M 8.203125 72.90625 \r\nL 55.078125 72.90625 \r\nL 55.078125 68.703125 \r\nL 28.609375 0 \r\nL 18.3125 0 \r\nL 43.21875 64.59375 \r\nL 8.203125 64.59375 \r\nz\r\n\" id=\"DejaVuSans-55\"/>\r\n        <path d=\"M 31.78125 66.40625 \r\nQ 24.171875 66.40625 20.328125 58.90625 \r\nQ 16.5 51.421875 16.5 36.375 \r\nQ 16.5 21.390625 20.328125 13.890625 \r\nQ 24.171875 6.390625 31.78125 6.390625 \r\nQ 39.453125 6.390625 43.28125 13.890625 \r\nQ 47.125 21.390625 47.125 36.375 \r\nQ 47.125 51.421875 43.28125 58.90625 \r\nQ 39.453125 66.40625 31.78125 66.40625 \r\nz\r\nM 31.78125 74.21875 \r\nQ 44.046875 74.21875 50.515625 64.515625 \r\nQ 56.984375 54.828125 56.984375 36.375 \r\nQ 56.984375 17.96875 50.515625 8.265625 \r\nQ 44.046875 -1.421875 31.78125 -1.421875 \r\nQ 19.53125 -1.421875 13.0625 8.265625 \r\nQ 6.59375 17.96875 6.59375 36.375 \r\nQ 6.59375 54.828125 13.0625 64.515625 \r\nQ 19.53125 74.21875 31.78125 74.21875 \r\nz\r\n\" id=\"DejaVuSans-48\"/>\r\n       </defs>\r\n       <use xlink:href=\"#DejaVuSans-55\"/>\r\n       <use x=\"63.623047\" xlink:href=\"#DejaVuSans-48\"/>\r\n      </g>\r\n     </g>\r\n    </g>\r\n    <g id=\"xtick_4\">\r\n     <g id=\"line2d_4\">\r\n      <g>\r\n       <use style=\"stroke:#000000;stroke-width:0.8;\" x=\"469.099716\" xlink:href=\"#mb43f2b575f\" y=\"279\"/>\r\n      </g>\r\n     </g>\r\n     <g id=\"text_4\">\r\n      <!-- 72 -->\r\n      <g transform=\"translate(462.737216 293.598438)scale(0.1 -0.1)\">\r\n       <defs>\r\n        <path d=\"M 19.1875 8.296875 \r\nL 53.609375 8.296875 \r\nL 53.609375 0 \r\nL 7.328125 0 \r\nL 7.328125 8.296875 \r\nQ 12.9375 14.109375 22.625 23.890625 \r\nQ 32.328125 33.6875 34.8125 36.53125 \r\nQ 39.546875 41.84375 41.421875 45.53125 \r\nQ 43.3125 49.21875 43.3125 52.78125 \r\nQ 43.3125 58.59375 39.234375 62.25 \r\nQ 35.15625 65.921875 28.609375 65.921875 \r\nQ 23.96875 65.921875 18.8125 64.3125 \r\nQ 13.671875 62.703125 7.8125 59.421875 \r\nL 7.8125 69.390625 \r\nQ 13.765625 71.78125 18.9375 73 \r\nQ 24.125 74.21875 28.421875 74.21875 \r\nQ 39.75 74.21875 46.484375 68.546875 \r\nQ 53.21875 62.890625 53.21875 53.421875 \r\nQ 53.21875 48.921875 51.53125 44.890625 \r\nQ 49.859375 40.875 45.40625 35.40625 \r\nQ 44.1875 33.984375 37.640625 27.21875 \r\nQ 31.109375 20.453125 19.1875 8.296875 \r\nz\r\n\" id=\"DejaVuSans-50\"/>\r\n       </defs>\r\n       <use xlink:href=\"#DejaVuSans-55\"/>\r\n       <use x=\"63.623047\" xlink:href=\"#DejaVuSans-50\"/>\r\n      </g>\r\n     </g>\r\n    </g>\r\n    <g id=\"xtick_5\">\r\n     <g id=\"line2d_5\">\r\n      <g>\r\n       <use style=\"stroke:#000000;stroke-width:0.8;\" x=\"581.826989\" xlink:href=\"#mb43f2b575f\" y=\"279\"/>\r\n      </g>\r\n     </g>\r\n     <g id=\"text_5\">\r\n      <!-- 74 -->\r\n      <g transform=\"translate(575.464489 293.598438)scale(0.1 -0.1)\">\r\n       <defs>\r\n        <path d=\"M 37.796875 64.3125 \r\nL 12.890625 25.390625 \r\nL 37.796875 25.390625 \r\nz\r\nM 35.203125 72.90625 \r\nL 47.609375 72.90625 \r\nL 47.609375 25.390625 \r\nL 58.015625 25.390625 \r\nL 58.015625 17.1875 \r\nL 47.609375 17.1875 \r\nL 47.609375 0 \r\nL 37.796875 0 \r\nL 37.796875 17.1875 \r\nL 4.890625 17.1875 \r\nL 4.890625 26.703125 \r\nz\r\n\" id=\"DejaVuSans-52\"/>\r\n       </defs>\r\n       <use xlink:href=\"#DejaVuSans-55\"/>\r\n       <use x=\"63.623047\" xlink:href=\"#DejaVuSans-52\"/>\r\n      </g>\r\n     </g>\r\n    </g>\r\n   </g>\r\n   <g id=\"matplotlib.axis_2\">\r\n    <g id=\"ytick_1\">\r\n     <g id=\"line2d_6\">\r\n      <defs>\r\n       <path d=\"M 0 0 \r\nL -3.5 0 \r\n\" id=\"m696c956991\" style=\"stroke:#000000;stroke-width:0.8;\"/>\r\n      </defs>\r\n      <g>\r\n       <use style=\"stroke:#000000;stroke-width:0.8;\" x=\"49.190625\" xlink:href=\"#m696c956991\" y=\"266.645455\"/>\r\n      </g>\r\n     </g>\r\n     <g id=\"text_6\">\r\n      <!-- 0.9455 -->\r\n      <g transform=\"translate(7.2 270.444673)scale(0.1 -0.1)\">\r\n       <defs>\r\n        <path d=\"M 10.6875 12.40625 \r\nL 21 12.40625 \r\nL 21 0 \r\nL 10.6875 0 \r\nz\r\n\" id=\"DejaVuSans-46\"/>\r\n        <path d=\"M 10.984375 1.515625 \r\nL 10.984375 10.5 \r\nQ 14.703125 8.734375 18.5 7.8125 \r\nQ 22.3125 6.890625 25.984375 6.890625 \r\nQ 35.75 6.890625 40.890625 13.453125 \r\nQ 46.046875 20.015625 46.78125 33.40625 \r\nQ 43.953125 29.203125 39.59375 26.953125 \r\nQ 35.25 24.703125 29.984375 24.703125 \r\nQ 19.046875 24.703125 12.671875 31.3125 \r\nQ 6.296875 37.9375 6.296875 49.421875 \r\nQ 6.296875 60.640625 12.9375 67.421875 \r\nQ 19.578125 74.21875 30.609375 74.21875 \r\nQ 43.265625 74.21875 49.921875 64.515625 \r\nQ 56.59375 54.828125 56.59375 36.375 \r\nQ 56.59375 19.140625 48.40625 8.859375 \r\nQ 40.234375 -1.421875 26.421875 -1.421875 \r\nQ 22.703125 -1.421875 18.890625 -0.6875 \r\nQ 15.09375 0.046875 10.984375 1.515625 \r\nz\r\nM 30.609375 32.421875 \r\nQ 37.25 32.421875 41.125 36.953125 \r\nQ 45.015625 41.5 45.015625 49.421875 \r\nQ 45.015625 57.28125 41.125 61.84375 \r\nQ 37.25 66.40625 30.609375 66.40625 \r\nQ 23.96875 66.40625 20.09375 61.84375 \r\nQ 16.21875 57.28125 16.21875 49.421875 \r\nQ 16.21875 41.5 20.09375 36.953125 \r\nQ 23.96875 32.421875 30.609375 32.421875 \r\nz\r\n\" id=\"DejaVuSans-57\"/>\r\n        <path d=\"M 10.796875 72.90625 \r\nL 49.515625 72.90625 \r\nL 49.515625 64.59375 \r\nL 19.828125 64.59375 \r\nL 19.828125 46.734375 \r\nQ 21.96875 47.46875 24.109375 47.828125 \r\nQ 26.265625 48.1875 28.421875 48.1875 \r\nQ 40.625 48.1875 47.75 41.5 \r\nQ 54.890625 34.8125 54.890625 23.390625 \r\nQ 54.890625 11.625 47.5625 5.09375 \r\nQ 40.234375 -1.421875 26.90625 -1.421875 \r\nQ 22.3125 -1.421875 17.546875 -0.640625 \r\nQ 12.796875 0.140625 7.71875 1.703125 \r\nL 7.71875 11.625 \r\nQ 12.109375 9.234375 16.796875 8.0625 \r\nQ 21.484375 6.890625 26.703125 6.890625 \r\nQ 35.15625 6.890625 40.078125 11.328125 \r\nQ 45.015625 15.765625 45.015625 23.390625 \r\nQ 45.015625 31 40.078125 35.4375 \r\nQ 35.15625 39.890625 26.703125 39.890625 \r\nQ 22.75 39.890625 18.8125 39.015625 \r\nQ 14.890625 38.140625 10.796875 36.28125 \r\nz\r\n\" id=\"DejaVuSans-53\"/>\r\n       </defs>\r\n       <use xlink:href=\"#DejaVuSans-48\"/>\r\n       <use x=\"63.623047\" xlink:href=\"#DejaVuSans-46\"/>\r\n       <use x=\"95.410156\" xlink:href=\"#DejaVuSans-57\"/>\r\n       <use x=\"159.033203\" xlink:href=\"#DejaVuSans-52\"/>\r\n       <use x=\"222.65625\" xlink:href=\"#DejaVuSans-53\"/>\r\n       <use x=\"286.279297\" xlink:href=\"#DejaVuSans-53\"/>\r\n      </g>\r\n     </g>\r\n    </g>\r\n    <g id=\"ytick_2\">\r\n     <g id=\"line2d_7\">\r\n      <g>\r\n       <use style=\"stroke:#000000;stroke-width:0.8;\" x=\"49.190625\" xlink:href=\"#m696c956991\" y=\"225.463636\"/>\r\n      </g>\r\n     </g>\r\n     <g id=\"text_7\">\r\n      <!-- 0.9460 -->\r\n      <g transform=\"translate(7.2 229.262855)scale(0.1 -0.1)\">\r\n       <use xlink:href=\"#DejaVuSans-48\"/>\r\n       <use x=\"63.623047\" xlink:href=\"#DejaVuSans-46\"/>\r\n       <use x=\"95.410156\" xlink:href=\"#DejaVuSans-57\"/>\r\n       <use x=\"159.033203\" xlink:href=\"#DejaVuSans-52\"/>\r\n       <use x=\"222.65625\" xlink:href=\"#DejaVuSans-54\"/>\r\n       <use x=\"286.279297\" xlink:href=\"#DejaVuSans-48\"/>\r\n      </g>\r\n     </g>\r\n    </g>\r\n    <g id=\"ytick_3\">\r\n     <g id=\"line2d_8\">\r\n      <g>\r\n       <use style=\"stroke:#000000;stroke-width:0.8;\" x=\"49.190625\" xlink:href=\"#m696c956991\" y=\"184.281818\"/>\r\n      </g>\r\n     </g>\r\n     <g id=\"text_8\">\r\n      <!-- 0.9465 -->\r\n      <g transform=\"translate(7.2 188.081037)scale(0.1 -0.1)\">\r\n       <use xlink:href=\"#DejaVuSans-48\"/>\r\n       <use x=\"63.623047\" xlink:href=\"#DejaVuSans-46\"/>\r\n       <use x=\"95.410156\" xlink:href=\"#DejaVuSans-57\"/>\r\n       <use x=\"159.033203\" xlink:href=\"#DejaVuSans-52\"/>\r\n       <use x=\"222.65625\" xlink:href=\"#DejaVuSans-54\"/>\r\n       <use x=\"286.279297\" xlink:href=\"#DejaVuSans-53\"/>\r\n      </g>\r\n     </g>\r\n    </g>\r\n    <g id=\"ytick_4\">\r\n     <g id=\"line2d_9\">\r\n      <g>\r\n       <use style=\"stroke:#000000;stroke-width:0.8;\" x=\"49.190625\" xlink:href=\"#m696c956991\" y=\"143.1\"/>\r\n      </g>\r\n     </g>\r\n     <g id=\"text_9\">\r\n      <!-- 0.9470 -->\r\n      <g transform=\"translate(7.2 146.899219)scale(0.1 -0.1)\">\r\n       <use xlink:href=\"#DejaVuSans-48\"/>\r\n       <use x=\"63.623047\" xlink:href=\"#DejaVuSans-46\"/>\r\n       <use x=\"95.410156\" xlink:href=\"#DejaVuSans-57\"/>\r\n       <use x=\"159.033203\" xlink:href=\"#DejaVuSans-52\"/>\r\n       <use x=\"222.65625\" xlink:href=\"#DejaVuSans-55\"/>\r\n       <use x=\"286.279297\" xlink:href=\"#DejaVuSans-48\"/>\r\n      </g>\r\n     </g>\r\n    </g>\r\n    <g id=\"ytick_5\">\r\n     <g id=\"line2d_10\">\r\n      <g>\r\n       <use style=\"stroke:#000000;stroke-width:0.8;\" x=\"49.190625\" xlink:href=\"#m696c956991\" y=\"101.918182\"/>\r\n      </g>\r\n     </g>\r\n     <g id=\"text_10\">\r\n      <!-- 0.9475 -->\r\n      <g transform=\"translate(7.2 105.717401)scale(0.1 -0.1)\">\r\n       <use xlink:href=\"#DejaVuSans-48\"/>\r\n       <use x=\"63.623047\" xlink:href=\"#DejaVuSans-46\"/>\r\n       <use x=\"95.410156\" xlink:href=\"#DejaVuSans-57\"/>\r\n       <use x=\"159.033203\" xlink:href=\"#DejaVuSans-52\"/>\r\n       <use x=\"222.65625\" xlink:href=\"#DejaVuSans-55\"/>\r\n       <use x=\"286.279297\" xlink:href=\"#DejaVuSans-53\"/>\r\n      </g>\r\n     </g>\r\n    </g>\r\n    <g id=\"ytick_6\">\r\n     <g id=\"line2d_11\">\r\n      <g>\r\n       <use style=\"stroke:#000000;stroke-width:0.8;\" x=\"49.190625\" xlink:href=\"#m696c956991\" y=\"60.736364\"/>\r\n      </g>\r\n     </g>\r\n     <g id=\"text_11\">\r\n      <!-- 0.9480 -->\r\n      <g transform=\"translate(7.2 64.535582)scale(0.1 -0.1)\">\r\n       <use xlink:href=\"#DejaVuSans-48\"/>\r\n       <use x=\"63.623047\" xlink:href=\"#DejaVuSans-46\"/>\r\n       <use x=\"95.410156\" xlink:href=\"#DejaVuSans-57\"/>\r\n       <use x=\"159.033203\" xlink:href=\"#DejaVuSans-52\"/>\r\n       <use x=\"222.65625\" xlink:href=\"#DejaVuSans-56\"/>\r\n       <use x=\"286.279297\" xlink:href=\"#DejaVuSans-48\"/>\r\n      </g>\r\n     </g>\r\n    </g>\r\n    <g id=\"ytick_7\">\r\n     <g id=\"line2d_12\">\r\n      <g>\r\n       <use style=\"stroke:#000000;stroke-width:0.8;\" x=\"49.190625\" xlink:href=\"#m696c956991\" y=\"19.554545\"/>\r\n      </g>\r\n     </g>\r\n     <g id=\"text_12\">\r\n      <!-- 0.9485 -->\r\n      <g transform=\"translate(7.2 23.353764)scale(0.1 -0.1)\">\r\n       <use xlink:href=\"#DejaVuSans-48\"/>\r\n       <use x=\"63.623047\" xlink:href=\"#DejaVuSans-46\"/>\r\n       <use x=\"95.410156\" xlink:href=\"#DejaVuSans-57\"/>\r\n       <use x=\"159.033203\" xlink:href=\"#DejaVuSans-52\"/>\r\n       <use x=\"222.65625\" xlink:href=\"#DejaVuSans-56\"/>\r\n       <use x=\"286.279297\" xlink:href=\"#DejaVuSans-53\"/>\r\n      </g>\r\n     </g>\r\n    </g>\r\n   </g>\r\n   <g id=\"line2d_13\">\r\n    <path clip-path=\"url(#ped92317212)\" d=\"M 74.554261 266.645455 \r\nL 130.917898 184.281818 \r\nL 187.281534 184.281818 \r\nL 243.64517 60.736364 \r\nL 300.008807 60.736364 \r\nL 356.372443 19.554545 \r\nL 412.73608 19.554545 \r\nL 469.099716 19.554545 \r\nL 525.463352 225.463636 \r\nL 581.826989 101.918182 \r\n\" style=\"fill:none;stroke:#1f77b4;stroke-linecap:square;stroke-width:1.5;\"/>\r\n   </g>\r\n   <g id=\"patch_3\">\r\n    <path d=\"M 49.190625 279 \r\nL 49.190625 7.2 \r\n\" style=\"fill:none;stroke:#000000;stroke-linecap:square;stroke-linejoin:miter;stroke-width:0.8;\"/>\r\n   </g>\r\n   <g id=\"patch_4\">\r\n    <path d=\"M 607.190625 279 \r\nL 607.190625 7.2 \r\n\" style=\"fill:none;stroke:#000000;stroke-linecap:square;stroke-linejoin:miter;stroke-width:0.8;\"/>\r\n   </g>\r\n   <g id=\"patch_5\">\r\n    <path d=\"M 49.190625 279 \r\nL 607.190625 279 \r\n\" style=\"fill:none;stroke:#000000;stroke-linecap:square;stroke-linejoin:miter;stroke-width:0.8;\"/>\r\n   </g>\r\n   <g id=\"patch_6\">\r\n    <path d=\"M 49.190625 7.2 \r\nL 607.190625 7.2 \r\n\" style=\"fill:none;stroke:#000000;stroke-linecap:square;stroke-linejoin:miter;stroke-width:0.8;\"/>\r\n   </g>\r\n  </g>\r\n </g>\r\n <defs>\r\n  <clipPath id=\"ped92317212\">\r\n   <rect height=\"271.8\" width=\"558\" x=\"49.190625\" y=\"7.2\"/>\r\n  </clipPath>\r\n </defs>\r\n</svg>\r\n",
      "image/png": "[encoded data removed]"
     },
     "metadata": {
      "needs_background": "light"
     }
    }
   ],
   "source": [
    "# 可以看到在71左右为最优点，进一步细化\n",
    "score1=[]\n",
    "for i in range(65,75):\n",
    "    rfc=RandomForestClassifier(n_estimators=i,n_jobs=-1,random_state=90)\n",
    "    score=cross_val_score(rfc,feature_train,label_train,cv=10).mean()\n",
    "    score1.append(score)\n",
    "print(max(score1),([*range(65,75)][score1.index(max(score1))]))\n",
    "plt.figure(figsize=[10,5])\n",
    "plt.plot(range(65,75),score1)\n",
    "plt.show()"
   ]
  },
  {
   "cell_type": "code",
   "execution_count": 12,
   "metadata": {},
   "outputs": [
    {
     "output_type": "stream",
     "name": "stdout",
     "text": [
      "最优分类器: {'max_depth': 24} 最优分数: 0.9485000000000001\n",
      "最优分类器: {'max_features': 30} 最优分数: 0.9495000000000001\n",
      "最优分类器: {'min_samples_leaf': 1} 最优分数: 0.9485000000000001\n",
      "最优分类器: {'min_samples_split': 3} 最优分数: 0.9490000000000001\n"
     ]
    }
   ],
   "source": [
    "# 用随机搜索来寻找其余的最优参数\n",
    "rfc=RandomForestClassifier(n_estimators=72,random_state=90)\n",
    "params=[{'max_depth':np.arange(11,50,1)},{'max_features':np.arange(5,50,1)},{'min_samples_leaf':np.arange(1, 1+50, 1)},{'min_samples_split':np.arange(2, 2+50, 1)}]\n",
    "for dic in params:\n",
    "    bestModel=GridSearchCV(rfc,param_grid=dic,cv=10,n_jobs = -1)\n",
    "    bestModel.fit(feature_train,label_train)\n",
    "    print('最优分类器:',bestModel.best_params_,'最优分数:', bestModel.best_score_)"
   ]
  },
  {
   "cell_type": "code",
   "execution_count": 15,
   "metadata": {},
   "outputs": [
    {
     "output_type": "stream",
     "name": "stdout",
     "text": [
      "准确率均值: 0.950 方差：0.014\n"
     ]
    }
   ],
   "source": [
    "# 确定最终模型\n",
    "rfc=RandomForestClassifier(n_estimators=72,max_features=30,random_state=90)\n",
    "cv=RepeatedStratifiedKFold(n_splits=10,n_repeats=3,random_state=1)\n",
    "rfc_scores=cross_val_score(rfc,feature_train,label_train,cv=10)\n",
    "print('准确率均值: %.3f 方差：%.3f' % (np.mean(rfc_scores), np.std(rfc_scores)))"
   ]
  }
 ]
}